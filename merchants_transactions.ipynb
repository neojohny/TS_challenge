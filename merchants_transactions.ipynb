{
 "cells": [
  {
   "cell_type": "markdown",
   "metadata": {},
   "source": [
    "Data: The dataset has future merchant transaction activity, for merchants that start over a 2 year period (2033-2034). The data spans from 1/1/33 through 12/31/34. Although the data is made up, you can consider this to be a random sample of future merchants using Stripe. Each observation is a transaction amount in cents. If the merchant stops processing with Stripe, then they would no longer appear.  \n",
    "\n",
    " \n",
    "\n",
    "Questions:\n",
    "\n",
    "* We have limited data on these merchants and their transactions, but we are still interested in understanding their payments activity to try to infer the types of merchants using Stripe. Using only the given data, how would you identify different kinds of businesses in the sample? Please generate assignments for each merchant.\n",
    "* Sometimes a merchant may stop processing with Stripe, which we call churn. We are interested in identifying and predicting churn. Please a) come up with a concrete definition for churn b) identify merchants that have already churned in the dataset, and c) build a model to predict which active merchants are most likely to churn in the near future.\n",
    "\n",
    "Dataset here.\n",
    " \n",
    "\n",
    "We’re interested in how you solve business problems and your technical skills. Please include how we can apply this work and how that guides your analysis choices.\n",
    "\n",
    " \n",
    "\n",
    "We're interested in your creativity with the data as well as how you communicate the results/insights. Please submit a write-up of your results in a format that can be presented to business teams (document or slides) as well as your code (Python or R). If you continue to the onsite interview, we will ask you to present your findings from your written project. Please don’t spend more than 4-6 hours on the project.\n",
    "\n",
    " \n",
    "\n",
    "Please don't include your name in either the filename or body of your submission. If you'd like to include an HTML file as part of your submission, please upload it as part of a zip file. Finally, please provide an estimate of how much time you spent on the project.\n",
    "\n",
    " \n",
    "\n",
    " \n",
    "\n",
    "\n",
    "Please submit here:\n",
    "https://app.greenhouse.io/tests/c0c3c28498baf461430bf352faeb83ce?utm_medium=email&utm_source=TakeHomeTest"
   ]
  },
  {
   "cell_type": "code",
   "execution_count": 1,
   "metadata": {},
   "outputs": [],
   "source": [
    "import numpy as np\n",
    "import pandas as pd"
   ]
  },
  {
   "cell_type": "markdown",
   "metadata": {},
   "source": [
    "### EDA"
   ]
  },
  {
   "cell_type": "markdown",
   "metadata": {},
   "source": [
    "#### read data"
   ]
  },
  {
   "cell_type": "code",
   "execution_count": 6,
   "metadata": {},
   "outputs": [],
   "source": [
    "df = pd.read_csv('takehome_ds_written.csv', index_col=0)"
   ]
  },
  {
   "cell_type": "code",
   "execution_count": 7,
   "metadata": {},
   "outputs": [
    {
     "data": {
      "text/html": [
       "<div>\n",
       "<style scoped>\n",
       "    .dataframe tbody tr th:only-of-type {\n",
       "        vertical-align: middle;\n",
       "    }\n",
       "\n",
       "    .dataframe tbody tr th {\n",
       "        vertical-align: top;\n",
       "    }\n",
       "\n",
       "    .dataframe thead th {\n",
       "        text-align: right;\n",
       "    }\n",
       "</style>\n",
       "<table border=\"1\" class=\"dataframe\">\n",
       "  <thead>\n",
       "    <tr style=\"text-align: right;\">\n",
       "      <th></th>\n",
       "      <th>merchant</th>\n",
       "      <th>time</th>\n",
       "      <th>amount_usd_in_cents</th>\n",
       "    </tr>\n",
       "  </thead>\n",
       "  <tbody>\n",
       "    <tr>\n",
       "      <th>1</th>\n",
       "      <td>faa029c6b0</td>\n",
       "      <td>2034-06-17 23:34:14</td>\n",
       "      <td>6349</td>\n",
       "    </tr>\n",
       "    <tr>\n",
       "      <th>2</th>\n",
       "      <td>ed7a7d91aa</td>\n",
       "      <td>2034-12-27 00:40:38</td>\n",
       "      <td>3854</td>\n",
       "    </tr>\n",
       "    <tr>\n",
       "      <th>3</th>\n",
       "      <td>5608f200cf</td>\n",
       "      <td>2034-04-30 01:29:42</td>\n",
       "      <td>789</td>\n",
       "    </tr>\n",
       "    <tr>\n",
       "      <th>4</th>\n",
       "      <td>15b1a0d61e</td>\n",
       "      <td>2034-09-16 01:06:23</td>\n",
       "      <td>4452</td>\n",
       "    </tr>\n",
       "    <tr>\n",
       "      <th>5</th>\n",
       "      <td>4770051790</td>\n",
       "      <td>2034-07-22 16:21:42</td>\n",
       "      <td>20203</td>\n",
       "    </tr>\n",
       "  </tbody>\n",
       "</table>\n",
       "</div>"
      ],
      "text/plain": [
       "     merchant                 time  amount_usd_in_cents\n",
       "1  faa029c6b0  2034-06-17 23:34:14                 6349\n",
       "2  ed7a7d91aa  2034-12-27 00:40:38                 3854\n",
       "3  5608f200cf  2034-04-30 01:29:42                  789\n",
       "4  15b1a0d61e  2034-09-16 01:06:23                 4452\n",
       "5  4770051790  2034-07-22 16:21:42                20203"
      ]
     },
     "execution_count": 7,
     "metadata": {},
     "output_type": "execute_result"
    }
   ],
   "source": [
    "df.head()"
   ]
  },
  {
   "cell_type": "code",
   "execution_count": 8,
   "metadata": {},
   "outputs": [
    {
     "data": {
      "text/plain": [
       "(1513719, 3)"
      ]
     },
     "execution_count": 8,
     "metadata": {},
     "output_type": "execute_result"
    }
   ],
   "source": [
    "df.shape"
   ]
  },
  {
   "cell_type": "code",
   "execution_count": 62,
   "metadata": {},
   "outputs": [
    {
     "data": {
      "text/plain": [
       "merchant               False\n",
       "time                   False\n",
       "amount_usd_in_cents    False\n",
       "dtype: bool"
      ]
     },
     "execution_count": 62,
     "metadata": {},
     "output_type": "execute_result"
    }
   ],
   "source": [
    "df.isna().any()"
   ]
  },
  {
   "cell_type": "code",
   "execution_count": 14,
   "metadata": {
    "scrolled": true
   },
   "outputs": [],
   "source": [
    "df.time = df.time.apply(lambda x:pd.Timestamp(x))"
   ]
  },
  {
   "cell_type": "code",
   "execution_count": 15,
   "metadata": {},
   "outputs": [
    {
     "data": {
      "text/html": [
       "<div>\n",
       "<style scoped>\n",
       "    .dataframe tbody tr th:only-of-type {\n",
       "        vertical-align: middle;\n",
       "    }\n",
       "\n",
       "    .dataframe tbody tr th {\n",
       "        vertical-align: top;\n",
       "    }\n",
       "\n",
       "    .dataframe thead th {\n",
       "        text-align: right;\n",
       "    }\n",
       "</style>\n",
       "<table border=\"1\" class=\"dataframe\">\n",
       "  <thead>\n",
       "    <tr style=\"text-align: right;\">\n",
       "      <th></th>\n",
       "      <th>merchant</th>\n",
       "      <th>time</th>\n",
       "      <th>amount_usd_in_cents</th>\n",
       "    </tr>\n",
       "  </thead>\n",
       "  <tbody>\n",
       "    <tr>\n",
       "      <th>1</th>\n",
       "      <td>faa029c6b0</td>\n",
       "      <td>2034-06-17 23:34:14</td>\n",
       "      <td>6349</td>\n",
       "    </tr>\n",
       "    <tr>\n",
       "      <th>2</th>\n",
       "      <td>ed7a7d91aa</td>\n",
       "      <td>2034-12-27 00:40:38</td>\n",
       "      <td>3854</td>\n",
       "    </tr>\n",
       "    <tr>\n",
       "      <th>3</th>\n",
       "      <td>5608f200cf</td>\n",
       "      <td>2034-04-30 01:29:42</td>\n",
       "      <td>789</td>\n",
       "    </tr>\n",
       "    <tr>\n",
       "      <th>4</th>\n",
       "      <td>15b1a0d61e</td>\n",
       "      <td>2034-09-16 01:06:23</td>\n",
       "      <td>4452</td>\n",
       "    </tr>\n",
       "    <tr>\n",
       "      <th>5</th>\n",
       "      <td>4770051790</td>\n",
       "      <td>2034-07-22 16:21:42</td>\n",
       "      <td>20203</td>\n",
       "    </tr>\n",
       "  </tbody>\n",
       "</table>\n",
       "</div>"
      ],
      "text/plain": [
       "     merchant                time  amount_usd_in_cents\n",
       "1  faa029c6b0 2034-06-17 23:34:14                 6349\n",
       "2  ed7a7d91aa 2034-12-27 00:40:38                 3854\n",
       "3  5608f200cf 2034-04-30 01:29:42                  789\n",
       "4  15b1a0d61e 2034-09-16 01:06:23                 4452\n",
       "5  4770051790 2034-07-22 16:21:42                20203"
      ]
     },
     "execution_count": 15,
     "metadata": {},
     "output_type": "execute_result"
    }
   ],
   "source": [
    "df.head()"
   ]
  },
  {
   "cell_type": "code",
   "execution_count": 19,
   "metadata": {},
   "outputs": [
    {
     "data": {
      "text/plain": [
       "14351"
      ]
     },
     "execution_count": 19,
     "metadata": {},
     "output_type": "execute_result"
    }
   ],
   "source": [
    "len(df.merchant.unique())"
   ]
  },
  {
   "cell_type": "code",
   "execution_count": null,
   "metadata": {},
   "outputs": [],
   "source": []
  },
  {
   "cell_type": "markdown",
   "metadata": {},
   "source": [
    "## Q1: Clustering\n",
    "### use feature engineering to work with sales data for clustering purpose\n",
    "Thoughts:\n",
    "* sales feature(mean, variance)\n",
    "* sales happens when(sales per day/week/month, time of the day morning, noon, night; start date on strip)\n",
    "* model wise, can use kmeans or EM, elbow to decide number of clusters\n",
    "* try deep learning for clustering? see if data is large enough"
   ]
  },
  {
   "cell_type": "markdown",
   "metadata": {},
   "source": [
    "#### aggregate merchants"
   ]
  },
  {
   "cell_type": "code",
   "execution_count": 58,
   "metadata": {},
   "outputs": [],
   "source": [
    "num_trans = df.groupby('merchant')['time'].count().sort_values(ascending=False).to_frame('counts')\n"
   ]
  },
  {
   "cell_type": "markdown",
   "metadata": {},
   "source": [
    "### if transaction history too few, ignore them? why they not use anymore?\n",
    "### any chance that they change names afterwards?"
   ]
  },
  {
   "cell_type": "code",
   "execution_count": null,
   "metadata": {},
   "outputs": [],
   "source": []
  },
  {
   "cell_type": "code",
   "execution_count": 151,
   "metadata": {},
   "outputs": [
    {
     "data": {
      "text/html": [
       "<div>\n",
       "<style scoped>\n",
       "    .dataframe tbody tr th:only-of-type {\n",
       "        vertical-align: middle;\n",
       "    }\n",
       "\n",
       "    .dataframe tbody tr th {\n",
       "        vertical-align: top;\n",
       "    }\n",
       "\n",
       "    .dataframe thead th {\n",
       "        text-align: right;\n",
       "    }\n",
       "</style>\n",
       "<table border=\"1\" class=\"dataframe\">\n",
       "  <thead>\n",
       "    <tr style=\"text-align: right;\">\n",
       "      <th></th>\n",
       "      <th>counts</th>\n",
       "    </tr>\n",
       "    <tr>\n",
       "      <th>merchant</th>\n",
       "      <th></th>\n",
       "    </tr>\n",
       "  </thead>\n",
       "  <tbody>\n",
       "    <tr>\n",
       "      <th>5608f200cf</th>\n",
       "      <td>25512</td>\n",
       "    </tr>\n",
       "    <tr>\n",
       "      <th>53b3fbeae2</th>\n",
       "      <td>12178</td>\n",
       "    </tr>\n",
       "    <tr>\n",
       "      <th>1ddaea9838</th>\n",
       "      <td>12042</td>\n",
       "    </tr>\n",
       "    <tr>\n",
       "      <th>89e2d29885</th>\n",
       "      <td>11969</td>\n",
       "    </tr>\n",
       "    <tr>\n",
       "      <th>654930c922</th>\n",
       "      <td>11222</td>\n",
       "    </tr>\n",
       "    <tr>\n",
       "      <th>...</th>\n",
       "      <td>...</td>\n",
       "    </tr>\n",
       "    <tr>\n",
       "      <th>69eff03b7e</th>\n",
       "      <td>1</td>\n",
       "    </tr>\n",
       "    <tr>\n",
       "      <th>69cbf327dd</th>\n",
       "      <td>1</td>\n",
       "    </tr>\n",
       "    <tr>\n",
       "      <th>69c5ae358e</th>\n",
       "      <td>1</td>\n",
       "    </tr>\n",
       "    <tr>\n",
       "      <th>69a968256f</th>\n",
       "      <td>1</td>\n",
       "    </tr>\n",
       "    <tr>\n",
       "      <th>0002b63b92</th>\n",
       "      <td>1</td>\n",
       "    </tr>\n",
       "  </tbody>\n",
       "</table>\n",
       "<p>14351 rows × 1 columns</p>\n",
       "</div>"
      ],
      "text/plain": [
       "            counts\n",
       "merchant          \n",
       "5608f200cf   25512\n",
       "53b3fbeae2   12178\n",
       "1ddaea9838   12042\n",
       "89e2d29885   11969\n",
       "654930c922   11222\n",
       "...            ...\n",
       "69eff03b7e       1\n",
       "69cbf327dd       1\n",
       "69c5ae358e       1\n",
       "69a968256f       1\n",
       "0002b63b92       1\n",
       "\n",
       "[14351 rows x 1 columns]"
      ]
     },
     "execution_count": 151,
     "metadata": {},
     "output_type": "execute_result"
    }
   ],
   "source": [
    "num_trans"
   ]
  },
  {
   "cell_type": "code",
   "execution_count": 263,
   "metadata": {},
   "outputs": [
    {
     "data": {
      "text/html": [
       "<div>\n",
       "<style scoped>\n",
       "    .dataframe tbody tr th:only-of-type {\n",
       "        vertical-align: middle;\n",
       "    }\n",
       "\n",
       "    .dataframe tbody tr th {\n",
       "        vertical-align: top;\n",
       "    }\n",
       "\n",
       "    .dataframe thead th {\n",
       "        text-align: right;\n",
       "    }\n",
       "</style>\n",
       "<table border=\"1\" class=\"dataframe\">\n",
       "  <thead>\n",
       "    <tr style=\"text-align: right;\">\n",
       "      <th></th>\n",
       "      <th>counts</th>\n",
       "    </tr>\n",
       "    <tr>\n",
       "      <th>merchant</th>\n",
       "      <th></th>\n",
       "    </tr>\n",
       "  </thead>\n",
       "  <tbody>\n",
       "    <tr>\n",
       "      <th>24d1a39c4e</th>\n",
       "      <td>2</td>\n",
       "    </tr>\n",
       "    <tr>\n",
       "      <th>097669f1f0</th>\n",
       "      <td>2</td>\n",
       "    </tr>\n",
       "    <tr>\n",
       "      <th>69d984dfd1</th>\n",
       "      <td>2</td>\n",
       "    </tr>\n",
       "    <tr>\n",
       "      <th>afe01f7a5b</th>\n",
       "      <td>2</td>\n",
       "    </tr>\n",
       "    <tr>\n",
       "      <th>6985004982</th>\n",
       "      <td>2</td>\n",
       "    </tr>\n",
       "    <tr>\n",
       "      <th>...</th>\n",
       "      <td>...</td>\n",
       "    </tr>\n",
       "    <tr>\n",
       "      <th>f03d773445</th>\n",
       "      <td>2</td>\n",
       "    </tr>\n",
       "    <tr>\n",
       "      <th>1732b09f94</th>\n",
       "      <td>2</td>\n",
       "    </tr>\n",
       "    <tr>\n",
       "      <th>5d94ff2ef6</th>\n",
       "      <td>2</td>\n",
       "    </tr>\n",
       "    <tr>\n",
       "      <th>0b6780cd15</th>\n",
       "      <td>2</td>\n",
       "    </tr>\n",
       "    <tr>\n",
       "      <th>2e0a766bd5</th>\n",
       "      <td>2</td>\n",
       "    </tr>\n",
       "  </tbody>\n",
       "</table>\n",
       "<p>1243 rows × 1 columns</p>\n",
       "</div>"
      ],
      "text/plain": [
       "            counts\n",
       "merchant          \n",
       "24d1a39c4e       2\n",
       "097669f1f0       2\n",
       "69d984dfd1       2\n",
       "afe01f7a5b       2\n",
       "6985004982       2\n",
       "...            ...\n",
       "f03d773445       2\n",
       "1732b09f94       2\n",
       "5d94ff2ef6       2\n",
       "0b6780cd15       2\n",
       "2e0a766bd5       2\n",
       "\n",
       "[1243 rows x 1 columns]"
      ]
     },
     "execution_count": 263,
     "metadata": {},
     "output_type": "execute_result"
    }
   ],
   "source": [
    "num_trans[num_trans.counts.isin([2])]"
   ]
  },
  {
   "cell_type": "markdown",
   "metadata": {},
   "source": [
    "#### power users take about 80% volume"
   ]
  },
  {
   "cell_type": "code",
   "execution_count": null,
   "metadata": {},
   "outputs": [],
   "source": []
  },
  {
   "cell_type": "code",
   "execution_count": 159,
   "metadata": {},
   "outputs": [
    {
     "data": {
      "text/plain": [
       "counts    0.799639\n",
       "dtype: float64"
      ]
     },
     "execution_count": 159,
     "metadata": {},
     "output_type": "execute_result"
    }
   ],
   "source": [
    "num_trans[:int(len(num_trans)*0.10)].sum()/num_trans.sum()"
   ]
  },
  {
   "cell_type": "code",
   "execution_count": 176,
   "metadata": {},
   "outputs": [
    {
     "data": {
      "text/plain": [
       "(1666, 1)"
      ]
     },
     "execution_count": 176,
     "metadata": {},
     "output_type": "execute_result"
    }
   ],
   "source": [
    "num_trans[num_trans.counts==1].shape#[-10:]"
   ]
  },
  {
   "cell_type": "code",
   "execution_count": 177,
   "metadata": {},
   "outputs": [
    {
     "data": {
      "text/plain": [
       "(14351, 1)"
      ]
     },
     "execution_count": 177,
     "metadata": {},
     "output_type": "execute_result"
    }
   ],
   "source": [
    "num_trans.shape"
   ]
  },
  {
   "cell_type": "code",
   "execution_count": 173,
   "metadata": {},
   "outputs": [
    {
     "data": {
      "text/html": [
       "<div>\n",
       "<style scoped>\n",
       "    .dataframe tbody tr th:only-of-type {\n",
       "        vertical-align: middle;\n",
       "    }\n",
       "\n",
       "    .dataframe tbody tr th {\n",
       "        vertical-align: top;\n",
       "    }\n",
       "\n",
       "    .dataframe thead th {\n",
       "        text-align: right;\n",
       "    }\n",
       "</style>\n",
       "<table border=\"1\" class=\"dataframe\">\n",
       "  <thead>\n",
       "    <tr style=\"text-align: right;\">\n",
       "      <th></th>\n",
       "      <th>merchant</th>\n",
       "      <th>time</th>\n",
       "      <th>amount_usd_in_cents</th>\n",
       "    </tr>\n",
       "  </thead>\n",
       "  <tbody>\n",
       "    <tr>\n",
       "      <th>193410</th>\n",
       "      <td>36fe55a483</td>\n",
       "      <td>2033-12-23 19:05:00</td>\n",
       "      <td>163053</td>\n",
       "    </tr>\n",
       "    <tr>\n",
       "      <th>1200319</th>\n",
       "      <td>36fe55a483</td>\n",
       "      <td>2034-09-08 00:16:22</td>\n",
       "      <td>422585</td>\n",
       "    </tr>\n",
       "  </tbody>\n",
       "</table>\n",
       "</div>"
      ],
      "text/plain": [
       "           merchant                time  amount_usd_in_cents\n",
       "193410   36fe55a483 2033-12-23 19:05:00               163053\n",
       "1200319  36fe55a483 2034-09-08 00:16:22               422585"
      ]
     },
     "execution_count": 173,
     "metadata": {},
     "output_type": "execute_result"
    }
   ],
   "source": [
    "df[df.merchant.isin(['36fe55a483'])]"
   ]
  },
  {
   "cell_type": "code",
   "execution_count": 175,
   "metadata": {},
   "outputs": [
    {
     "data": {
      "text/html": [
       "<div>\n",
       "<style scoped>\n",
       "    .dataframe tbody tr th:only-of-type {\n",
       "        vertical-align: middle;\n",
       "    }\n",
       "\n",
       "    .dataframe tbody tr th {\n",
       "        vertical-align: top;\n",
       "    }\n",
       "\n",
       "    .dataframe thead th {\n",
       "        text-align: right;\n",
       "    }\n",
       "</style>\n",
       "<table border=\"1\" class=\"dataframe\">\n",
       "  <thead>\n",
       "    <tr style=\"text-align: right;\">\n",
       "      <th></th>\n",
       "      <th>time</th>\n",
       "      <th>amount_usd_in_cents</th>\n",
       "    </tr>\n",
       "    <tr>\n",
       "      <th>merchant</th>\n",
       "      <th></th>\n",
       "      <th></th>\n",
       "    </tr>\n",
       "  </thead>\n",
       "  <tbody>\n",
       "    <tr>\n",
       "      <th>36fe55a483</th>\n",
       "      <td>2033-12-23 19:05:00</td>\n",
       "      <td>163053</td>\n",
       "    </tr>\n",
       "    <tr>\n",
       "      <th>36fe55a483</th>\n",
       "      <td>2034-09-08 00:16:22</td>\n",
       "      <td>422585</td>\n",
       "    </tr>\n",
       "    <tr>\n",
       "      <th>f0cab880e5</th>\n",
       "      <td>2034-09-28 20:03:03</td>\n",
       "      <td>14355</td>\n",
       "    </tr>\n",
       "    <tr>\n",
       "      <th>f0cab880e5</th>\n",
       "      <td>2034-10-05 17:40:10</td>\n",
       "      <td>51177</td>\n",
       "    </tr>\n",
       "    <tr>\n",
       "      <th>b59b2000dc</th>\n",
       "      <td>2033-10-21 21:45:10</td>\n",
       "      <td>6632</td>\n",
       "    </tr>\n",
       "    <tr>\n",
       "      <th>b59b2000dc</th>\n",
       "      <td>2033-11-24 00:40:56</td>\n",
       "      <td>1398</td>\n",
       "    </tr>\n",
       "    <tr>\n",
       "      <th>c1c342ffe4</th>\n",
       "      <td>2034-12-27 19:25:42</td>\n",
       "      <td>24455</td>\n",
       "    </tr>\n",
       "    <tr>\n",
       "      <th>c1c342ffe4</th>\n",
       "      <td>2034-12-20 21:13:36</td>\n",
       "      <td>127028</td>\n",
       "    </tr>\n",
       "    <tr>\n",
       "      <th>5d70ad2a02</th>\n",
       "      <td>2033-12-01 00:54:14</td>\n",
       "      <td>108991</td>\n",
       "    </tr>\n",
       "    <tr>\n",
       "      <th>5d70ad2a02</th>\n",
       "      <td>2034-02-25 22:26:49</td>\n",
       "      <td>6570</td>\n",
       "    </tr>\n",
       "    <tr>\n",
       "      <th>f03d773445</th>\n",
       "      <td>2033-09-16 02:58:45</td>\n",
       "      <td>85825</td>\n",
       "    </tr>\n",
       "    <tr>\n",
       "      <th>f03d773445</th>\n",
       "      <td>2033-09-16 03:01:29</td>\n",
       "      <td>81081</td>\n",
       "    </tr>\n",
       "    <tr>\n",
       "      <th>1732b09f94</th>\n",
       "      <td>2033-09-22 17:51:34</td>\n",
       "      <td>19054</td>\n",
       "    </tr>\n",
       "    <tr>\n",
       "      <th>1732b09f94</th>\n",
       "      <td>2034-08-31 18:27:32</td>\n",
       "      <td>37957</td>\n",
       "    </tr>\n",
       "    <tr>\n",
       "      <th>5d94ff2ef6</th>\n",
       "      <td>2033-10-13 22:30:32</td>\n",
       "      <td>8099</td>\n",
       "    </tr>\n",
       "    <tr>\n",
       "      <th>5d94ff2ef6</th>\n",
       "      <td>2033-10-21 21:34:40</td>\n",
       "      <td>11009</td>\n",
       "    </tr>\n",
       "    <tr>\n",
       "      <th>0b6780cd15</th>\n",
       "      <td>2034-11-28 21:39:22</td>\n",
       "      <td>85501</td>\n",
       "    </tr>\n",
       "    <tr>\n",
       "      <th>0b6780cd15</th>\n",
       "      <td>2034-12-12 05:36:39</td>\n",
       "      <td>152787</td>\n",
       "    </tr>\n",
       "    <tr>\n",
       "      <th>2e0a766bd5</th>\n",
       "      <td>2034-12-29 23:34:18</td>\n",
       "      <td>9099</td>\n",
       "    </tr>\n",
       "    <tr>\n",
       "      <th>2e0a766bd5</th>\n",
       "      <td>2034-12-15 17:59:38</td>\n",
       "      <td>7382</td>\n",
       "    </tr>\n",
       "  </tbody>\n",
       "</table>\n",
       "</div>"
      ],
      "text/plain": [
       "                          time  amount_usd_in_cents\n",
       "merchant                                           \n",
       "36fe55a483 2033-12-23 19:05:00               163053\n",
       "36fe55a483 2034-09-08 00:16:22               422585\n",
       "f0cab880e5 2034-09-28 20:03:03                14355\n",
       "f0cab880e5 2034-10-05 17:40:10                51177\n",
       "b59b2000dc 2033-10-21 21:45:10                 6632\n",
       "b59b2000dc 2033-11-24 00:40:56                 1398\n",
       "c1c342ffe4 2034-12-27 19:25:42                24455\n",
       "c1c342ffe4 2034-12-20 21:13:36               127028\n",
       "5d70ad2a02 2033-12-01 00:54:14               108991\n",
       "5d70ad2a02 2034-02-25 22:26:49                 6570\n",
       "f03d773445 2033-09-16 02:58:45                85825\n",
       "f03d773445 2033-09-16 03:01:29                81081\n",
       "1732b09f94 2033-09-22 17:51:34                19054\n",
       "1732b09f94 2034-08-31 18:27:32                37957\n",
       "5d94ff2ef6 2033-10-13 22:30:32                 8099\n",
       "5d94ff2ef6 2033-10-21 21:34:40                11009\n",
       "0b6780cd15 2034-11-28 21:39:22                85501\n",
       "0b6780cd15 2034-12-12 05:36:39               152787\n",
       "2e0a766bd5 2034-12-29 23:34:18                 9099\n",
       "2e0a766bd5 2034-12-15 17:59:38                 7382"
      ]
     },
     "execution_count": 175,
     "metadata": {},
     "output_type": "execute_result"
    }
   ],
   "source": [
    "df.set_index('merchant').loc[num_trans[num_trans.counts>=2][-10:].index]"
   ]
  },
  {
   "cell_type": "code",
   "execution_count": 60,
   "metadata": {},
   "outputs": [
    {
     "data": {
      "text/html": [
       "<div>\n",
       "<style scoped>\n",
       "    .dataframe tbody tr th:only-of-type {\n",
       "        vertical-align: middle;\n",
       "    }\n",
       "\n",
       "    .dataframe tbody tr th {\n",
       "        vertical-align: top;\n",
       "    }\n",
       "\n",
       "    .dataframe thead th {\n",
       "        text-align: right;\n",
       "    }\n",
       "</style>\n",
       "<table border=\"1\" class=\"dataframe\">\n",
       "  <thead>\n",
       "    <tr style=\"text-align: right;\">\n",
       "      <th></th>\n",
       "      <th>counts</th>\n",
       "    </tr>\n",
       "  </thead>\n",
       "  <tbody>\n",
       "    <tr>\n",
       "      <th>count</th>\n",
       "      <td>14351.000000</td>\n",
       "    </tr>\n",
       "    <tr>\n",
       "      <th>mean</th>\n",
       "      <td>105.478294</td>\n",
       "    </tr>\n",
       "    <tr>\n",
       "      <th>std</th>\n",
       "      <td>527.717966</td>\n",
       "    </tr>\n",
       "    <tr>\n",
       "      <th>min</th>\n",
       "      <td>1.000000</td>\n",
       "    </tr>\n",
       "    <tr>\n",
       "      <th>25%</th>\n",
       "      <td>3.000000</td>\n",
       "    </tr>\n",
       "    <tr>\n",
       "      <th>50%</th>\n",
       "      <td>11.000000</td>\n",
       "    </tr>\n",
       "    <tr>\n",
       "      <th>75%</th>\n",
       "      <td>45.000000</td>\n",
       "    </tr>\n",
       "    <tr>\n",
       "      <th>max</th>\n",
       "      <td>25512.000000</td>\n",
       "    </tr>\n",
       "  </tbody>\n",
       "</table>\n",
       "</div>"
      ],
      "text/plain": [
       "             counts\n",
       "count  14351.000000\n",
       "mean     105.478294\n",
       "std      527.717966\n",
       "min        1.000000\n",
       "25%        3.000000\n",
       "50%       11.000000\n",
       "75%       45.000000\n",
       "max    25512.000000"
      ]
     },
     "execution_count": 60,
     "metadata": {},
     "output_type": "execute_result"
    }
   ],
   "source": [
    "num_trans.describe()"
   ]
  },
  {
   "cell_type": "markdown",
   "metadata": {},
   "source": [
    "#### get total counts of sales, first day on stripe, last day on stripe"
   ]
  },
  {
   "cell_type": "code",
   "execution_count": 76,
   "metadata": {},
   "outputs": [],
   "source": [
    "def get_agg_merchants(df):\n",
    "    start =  df.groupby('merchant')['time'].min().to_frame('start time')\n",
    "    end = df.groupby('merchant')['time'].max().to_frame('end time')\n",
    "    counts = df.groupby('merchant')['time'].count().to_frame('counts')#.sort_values(ascending=False).to_frame('counts')\n",
    "    results = start.join(end).join(counts)\n",
    "    return results.sort_values('counts',ascending=False)"
   ]
  },
  {
   "cell_type": "code",
   "execution_count": 77,
   "metadata": {},
   "outputs": [],
   "source": [
    "agg_mer = get_agg_merchants(df)"
   ]
  },
  {
   "cell_type": "code",
   "execution_count": 82,
   "metadata": {},
   "outputs": [
    {
     "data": {
      "text/html": [
       "<div>\n",
       "<style scoped>\n",
       "    .dataframe tbody tr th:only-of-type {\n",
       "        vertical-align: middle;\n",
       "    }\n",
       "\n",
       "    .dataframe tbody tr th {\n",
       "        vertical-align: top;\n",
       "    }\n",
       "\n",
       "    .dataframe thead th {\n",
       "        text-align: right;\n",
       "    }\n",
       "</style>\n",
       "<table border=\"1\" class=\"dataframe\">\n",
       "  <thead>\n",
       "    <tr style=\"text-align: right;\">\n",
       "      <th></th>\n",
       "      <th>start time</th>\n",
       "      <th>end time</th>\n",
       "      <th>counts</th>\n",
       "    </tr>\n",
       "    <tr>\n",
       "      <th>merchant</th>\n",
       "      <th></th>\n",
       "      <th></th>\n",
       "      <th></th>\n",
       "    </tr>\n",
       "  </thead>\n",
       "  <tbody>\n",
       "    <tr>\n",
       "      <th>5608f200cf</th>\n",
       "      <td>2033-03-29 21:21:57</td>\n",
       "      <td>2034-12-31 04:44:54</td>\n",
       "      <td>25512</td>\n",
       "    </tr>\n",
       "    <tr>\n",
       "      <th>53b3fbeae2</th>\n",
       "      <td>2033-11-29 20:40:04</td>\n",
       "      <td>2034-12-31 06:13:56</td>\n",
       "      <td>12178</td>\n",
       "    </tr>\n",
       "    <tr>\n",
       "      <th>1ddaea9838</th>\n",
       "      <td>2033-01-03 15:16:32</td>\n",
       "      <td>2034-12-31 07:23:54</td>\n",
       "      <td>12042</td>\n",
       "    </tr>\n",
       "    <tr>\n",
       "      <th>89e2d29885</th>\n",
       "      <td>2033-01-25 21:56:56</td>\n",
       "      <td>2034-12-31 02:05:34</td>\n",
       "      <td>11969</td>\n",
       "    </tr>\n",
       "    <tr>\n",
       "      <th>654930c922</th>\n",
       "      <td>2033-01-11 19:03:11</td>\n",
       "      <td>2034-12-30 23:38:40</td>\n",
       "      <td>11222</td>\n",
       "    </tr>\n",
       "  </tbody>\n",
       "</table>\n",
       "</div>"
      ],
      "text/plain": [
       "                    start time            end time  counts\n",
       "merchant                                                  \n",
       "5608f200cf 2033-03-29 21:21:57 2034-12-31 04:44:54   25512\n",
       "53b3fbeae2 2033-11-29 20:40:04 2034-12-31 06:13:56   12178\n",
       "1ddaea9838 2033-01-03 15:16:32 2034-12-31 07:23:54   12042\n",
       "89e2d29885 2033-01-25 21:56:56 2034-12-31 02:05:34   11969\n",
       "654930c922 2033-01-11 19:03:11 2034-12-30 23:38:40   11222"
      ]
     },
     "execution_count": 82,
     "metadata": {},
     "output_type": "execute_result"
    }
   ],
   "source": [
    "agg_mer.head()"
   ]
  },
  {
   "cell_type": "code",
   "execution_count": 80,
   "metadata": {},
   "outputs": [
    {
     "data": {
      "text/plain": [
       "<matplotlib.axes._subplots.AxesSubplot at 0x2b60db21dd8>"
      ]
     },
     "execution_count": 80,
     "metadata": {},
     "output_type": "execute_result"
    },
    {
     "data": {
      "image/png": "[encoded data removed]",
      "text/plain": [
       "<Figure size 432x288 with 1 Axes>"
      ]
     },
     "metadata": {
      "needs_background": "light"
     },
     "output_type": "display_data"
    }
   ],
   "source": [
    "agg_mer.counts.plot.hist()"
   ]
  },
  {
   "cell_type": "markdown",
   "metadata": {},
   "source": [
    "#### sales amount from the largest merchant in terms of sales"
   ]
  },
  {
   "cell_type": "code",
   "execution_count": 101,
   "metadata": {},
   "outputs": [
    {
     "data": {
      "text/plain": [
       "<matplotlib.axes._subplots.AxesSubplot at 0x2b6107a2588>"
      ]
     },
     "execution_count": 101,
     "metadata": {},
     "output_type": "execute_result"
    },
    {
     "data": {
      "image/png": "[encoded data removed]",
      "text/plain": [
       "<Figure size 432x288 with 1 Axes>"
      ]
     },
     "metadata": {
      "needs_background": "light"
     },
     "output_type": "display_data"
    }
   ],
   "source": [
    "larget_mer = df.set_index('merchant').loc['5608f200cf']\n",
    "larget_mer.sort_values('time')\n",
    "larget_mer.set_index('time')\n",
    "larget_mer[-400:].plot('time','amount_usd_in_cents')"
   ]
  },
  {
   "cell_type": "code",
   "execution_count": 94,
   "metadata": {},
   "outputs": [
    {
     "data": {
      "text/plain": [
       "count    25512.000000\n",
       "mean       819.675878\n",
       "std         33.842892\n",
       "min        382.000000\n",
       "25%        820.000000\n",
       "50%        820.000000\n",
       "75%        820.000000\n",
       "max        902.000000\n",
       "Name: amount_usd_in_cents, dtype: float64"
      ]
     },
     "execution_count": 94,
     "metadata": {},
     "output_type": "execute_result"
    }
   ],
   "source": [
    "larget_mer.amount_usd_in_cents.describe()"
   ]
  },
  {
   "cell_type": "code",
   "execution_count": 98,
   "metadata": {},
   "outputs": [
    {
     "data": {
      "text/plain": [
       "array([789, 797, 820, 861, 841, 743, 901, 896, 819, 827, 890, 796, 804,\n",
       "       897, 830, 787, 813, 748, 766, 784, 843, 757, 878, 806, 872, 798,\n",
       "       869, 756, 885, 838, 888, 805, 891, 774, 785, 760, 777, 755, 821,\n",
       "       808, 771, 833, 825, 876, 791, 862, 794, 783, 842, 779, 837, 793,\n",
       "       746, 810, 800, 824, 868, 807, 851, 781, 758, 870, 879, 847, 894,\n",
       "       759, 875, 767, 877, 892, 881, 790, 742, 778, 889, 761, 764, 765,\n",
       "       740, 887, 849, 768, 898, 899, 751, 776, 902, 871, 782, 763, 762,\n",
       "       893, 858, 754, 853, 859, 828, 812, 839, 850, 816, 802, 738, 852,\n",
       "       882, 840, 739, 818, 817, 826, 880, 823, 836, 775, 855, 773, 741,\n",
       "       860, 863, 753, 745, 815, 780, 747, 854, 750, 770, 792, 846, 865,\n",
       "       744, 856, 811, 795, 844, 809, 831, 845, 832, 801, 867, 829, 857,\n",
       "       834, 822, 873, 786, 866, 886, 883, 769, 864, 788, 752, 749, 848,\n",
       "       884, 900, 803, 835, 895, 814, 772, 799, 874, 438, 434, 423, 444,\n",
       "       382], dtype=int64)"
      ]
     },
     "execution_count": 98,
     "metadata": {},
     "output_type": "execute_result"
    }
   ],
   "source": [
    "\n",
    "larget_mer.amount_usd_in_cents.unique()"
   ]
  },
  {
   "cell_type": "markdown",
   "metadata": {},
   "source": [
    "#### check how many merchants stop business before end of 2034"
   ]
  },
  {
   "cell_type": "code",
   "execution_count": 111,
   "metadata": {},
   "outputs": [],
   "source": [
    "early_exiter = agg_mer[agg_mer['end time']<pd.Timestamp(2034,12,30)]"
   ]
  },
  {
   "cell_type": "code",
   "execution_count": 108,
   "metadata": {},
   "outputs": [
    {
     "data": {
      "text/html": [
       "<div>\n",
       "<style scoped>\n",
       "    .dataframe tbody tr th:only-of-type {\n",
       "        vertical-align: middle;\n",
       "    }\n",
       "\n",
       "    .dataframe tbody tr th {\n",
       "        vertical-align: top;\n",
       "    }\n",
       "\n",
       "    .dataframe thead th {\n",
       "        text-align: right;\n",
       "    }\n",
       "</style>\n",
       "<table border=\"1\" class=\"dataframe\">\n",
       "  <thead>\n",
       "    <tr style=\"text-align: right;\">\n",
       "      <th></th>\n",
       "      <th>start time</th>\n",
       "      <th>end time</th>\n",
       "      <th>counts</th>\n",
       "    </tr>\n",
       "    <tr>\n",
       "      <th>merchant</th>\n",
       "      <th></th>\n",
       "      <th></th>\n",
       "      <th></th>\n",
       "    </tr>\n",
       "  </thead>\n",
       "  <tbody>\n",
       "    <tr>\n",
       "      <th>654930c922</th>\n",
       "      <td>2033-01-11 19:03:11</td>\n",
       "      <td>2034-12-30 23:38:40</td>\n",
       "      <td>11222</td>\n",
       "    </tr>\n",
       "    <tr>\n",
       "      <th>4ec0b84264</th>\n",
       "      <td>2033-05-11 22:08:32</td>\n",
       "      <td>2034-12-24 02:35:17</td>\n",
       "      <td>10213</td>\n",
       "    </tr>\n",
       "    <tr>\n",
       "      <th>7ebe98c24a</th>\n",
       "      <td>2033-12-15 21:20:36</td>\n",
       "      <td>2034-12-20 21:02:39</td>\n",
       "      <td>10208</td>\n",
       "    </tr>\n",
       "    <tr>\n",
       "      <th>36745cc693</th>\n",
       "      <td>2033-03-27 16:16:46</td>\n",
       "      <td>2034-12-16 07:19:43</td>\n",
       "      <td>9578</td>\n",
       "    </tr>\n",
       "    <tr>\n",
       "      <th>02c9bf7fcd</th>\n",
       "      <td>2033-08-27 01:41:52</td>\n",
       "      <td>2034-10-27 05:36:29</td>\n",
       "      <td>7108</td>\n",
       "    </tr>\n",
       "  </tbody>\n",
       "</table>\n",
       "</div>"
      ],
      "text/plain": [
       "                    start time            end time  counts\n",
       "merchant                                                  \n",
       "654930c922 2033-01-11 19:03:11 2034-12-30 23:38:40   11222\n",
       "4ec0b84264 2033-05-11 22:08:32 2034-12-24 02:35:17   10213\n",
       "7ebe98c24a 2033-12-15 21:20:36 2034-12-20 21:02:39   10208\n",
       "36745cc693 2033-03-27 16:16:46 2034-12-16 07:19:43    9578\n",
       "02c9bf7fcd 2033-08-27 01:41:52 2034-10-27 05:36:29    7108"
      ]
     },
     "execution_count": 108,
     "metadata": {},
     "output_type": "execute_result"
    }
   ],
   "source": [
    "early_exiter.head()"
   ]
  },
  {
   "cell_type": "code",
   "execution_count": 112,
   "metadata": {},
   "outputs": [
    {
     "data": {
      "text/plain": [
       "(12958, 3)"
      ]
     },
     "execution_count": 112,
     "metadata": {},
     "output_type": "execute_result"
    }
   ],
   "source": [
    "early_exiter.shape"
   ]
  },
  {
   "cell_type": "code",
   "execution_count": 110,
   "metadata": {},
   "outputs": [
    {
     "data": {
      "text/plain": [
       "(14351, 3)"
      ]
     },
     "execution_count": 110,
     "metadata": {},
     "output_type": "execute_result"
    }
   ],
   "source": [
    "agg_mer.shape"
   ]
  },
  {
   "cell_type": "code",
   "execution_count": 116,
   "metadata": {},
   "outputs": [
    {
     "data": {
      "text/plain": [
       "count          14351\n",
       "unique           714\n",
       "top       2034-12-30\n",
       "freq             787\n",
       "Name: end time, dtype: object"
      ]
     },
     "execution_count": 116,
     "metadata": {},
     "output_type": "execute_result"
    }
   ],
   "source": [
    "agg_mer['end time'].apply(lambda x:pd.Timestamp.date(x)).describe()"
   ]
  },
  {
   "cell_type": "code",
   "execution_count": 120,
   "metadata": {},
   "outputs": [
    {
     "data": {
      "text/plain": [
       "<matplotlib.axes._subplots.AxesSubplot at 0x2b611088400>"
      ]
     },
     "execution_count": 120,
     "metadata": {},
     "output_type": "execute_result"
    },
    {
     "data": {
      "image/png": "[encoded data removed]",
      "text/plain": [
       "<Figure size 432x288 with 1 Axes>"
      ]
     },
     "metadata": {
      "needs_background": "light"
     },
     "output_type": "display_data"
    }
   ],
   "source": [
    "agg_mer['end time'].apply(lambda x:pd.Timestamp.date(x)).value_counts().plot()"
   ]
  },
  {
   "cell_type": "code",
   "execution_count": 121,
   "metadata": {},
   "outputs": [],
   "source": [
    "merch_by_enddate = agg_mer['end time'].apply(lambda x:pd.Timestamp.date(x)).value_counts()"
   ]
  },
  {
   "cell_type": "code",
   "execution_count": 144,
   "metadata": {},
   "outputs": [
    {
     "data": {
      "text/plain": [
       "2034-08-25    26\n",
       "2034-10-30    26\n",
       "2034-09-21    26\n",
       "2034-11-23    26\n",
       "2034-10-13    26\n",
       "              ..\n",
       "2033-02-13     1\n",
       "2033-01-05     1\n",
       "2033-02-14     1\n",
       "2033-03-15     1\n",
       "2033-07-24     1\n",
       "Name: end time, Length: 614, dtype: int64"
      ]
     },
     "execution_count": 144,
     "metadata": {},
     "output_type": "execute_result"
    }
   ],
   "source": [
    "merch_by_enddate[100:]"
   ]
  },
  {
   "cell_type": "code",
   "execution_count": 149,
   "metadata": {},
   "outputs": [
    {
     "data": {
      "text/plain": [
       "<matplotlib.axes._subplots.AxesSubplot at 0x2b611112cf8>"
      ]
     },
     "execution_count": 149,
     "metadata": {},
     "output_type": "execute_result"
    },
    {
     "data": {
      "image/png": "[encoded data removed]",
      "text/plain": [
       "<Figure size 432x288 with 1 Axes>"
      ]
     },
     "metadata": {
      "needs_background": "light"
     },
     "output_type": "display_data"
    }
   ],
   "source": [
    "merch_by_enddate.to_frame().sort_index()[-70:].plot()"
   ]
  },
  {
   "cell_type": "code",
   "execution_count": 150,
   "metadata": {},
   "outputs": [
    {
     "data": {
      "text/plain": [
       "end time    7814\n",
       "dtype: int64"
      ]
     },
     "execution_count": 150,
     "metadata": {},
     "output_type": "execute_result"
    }
   ],
   "source": [
    "merch_by_enddate.to_frame().sort_index()[-70:].sum()"
   ]
  },
  {
   "cell_type": "markdown",
   "metadata": {},
   "source": [
    "#### time between trades"
   ]
  },
  {
   "cell_type": "code",
   "execution_count": 178,
   "metadata": {},
   "outputs": [
    {
     "data": {
      "text/html": [
       "<div>\n",
       "<style scoped>\n",
       "    .dataframe tbody tr th:only-of-type {\n",
       "        vertical-align: middle;\n",
       "    }\n",
       "\n",
       "    .dataframe tbody tr th {\n",
       "        vertical-align: top;\n",
       "    }\n",
       "\n",
       "    .dataframe thead th {\n",
       "        text-align: right;\n",
       "    }\n",
       "</style>\n",
       "<table border=\"1\" class=\"dataframe\">\n",
       "  <thead>\n",
       "    <tr style=\"text-align: right;\">\n",
       "      <th></th>\n",
       "      <th>merchant</th>\n",
       "      <th>time</th>\n",
       "      <th>amount_usd_in_cents</th>\n",
       "    </tr>\n",
       "  </thead>\n",
       "  <tbody>\n",
       "    <tr>\n",
       "      <th>1</th>\n",
       "      <td>faa029c6b0</td>\n",
       "      <td>2034-06-17 23:34:14</td>\n",
       "      <td>6349</td>\n",
       "    </tr>\n",
       "    <tr>\n",
       "      <th>2</th>\n",
       "      <td>ed7a7d91aa</td>\n",
       "      <td>2034-12-27 00:40:38</td>\n",
       "      <td>3854</td>\n",
       "    </tr>\n",
       "    <tr>\n",
       "      <th>3</th>\n",
       "      <td>5608f200cf</td>\n",
       "      <td>2034-04-30 01:29:42</td>\n",
       "      <td>789</td>\n",
       "    </tr>\n",
       "    <tr>\n",
       "      <th>4</th>\n",
       "      <td>15b1a0d61e</td>\n",
       "      <td>2034-09-16 01:06:23</td>\n",
       "      <td>4452</td>\n",
       "    </tr>\n",
       "    <tr>\n",
       "      <th>5</th>\n",
       "      <td>4770051790</td>\n",
       "      <td>2034-07-22 16:21:42</td>\n",
       "      <td>20203</td>\n",
       "    </tr>\n",
       "  </tbody>\n",
       "</table>\n",
       "</div>"
      ],
      "text/plain": [
       "     merchant                time  amount_usd_in_cents\n",
       "1  faa029c6b0 2034-06-17 23:34:14                 6349\n",
       "2  ed7a7d91aa 2034-12-27 00:40:38                 3854\n",
       "3  5608f200cf 2034-04-30 01:29:42                  789\n",
       "4  15b1a0d61e 2034-09-16 01:06:23                 4452\n",
       "5  4770051790 2034-07-22 16:21:42                20203"
      ]
     },
     "execution_count": 178,
     "metadata": {},
     "output_type": "execute_result"
    }
   ],
   "source": [
    "df.head()"
   ]
  },
  {
   "cell_type": "code",
   "execution_count": 254,
   "metadata": {},
   "outputs": [],
   "source": [
    "df_ordered = df.sort_values('time')\n",
    "df_ordered['next_tran_time'] = df_ordered.groupby(['merchant'])['time'].shift(-1)\n",
    "df_ordered['time_diff'] = (df_ordered.next_tran_time-df_ordered.time).apply(lambda x:x.total_seconds())\n"
   ]
  },
  {
   "cell_type": "code",
   "execution_count": 190,
   "metadata": {},
   "outputs": [
    {
     "data": {
      "text/html": [
       "<div>\n",
       "<style scoped>\n",
       "    .dataframe tbody tr th:only-of-type {\n",
       "        vertical-align: middle;\n",
       "    }\n",
       "\n",
       "    .dataframe tbody tr th {\n",
       "        vertical-align: top;\n",
       "    }\n",
       "\n",
       "    .dataframe thead th {\n",
       "        text-align: right;\n",
       "    }\n",
       "</style>\n",
       "<table border=\"1\" class=\"dataframe\">\n",
       "  <thead>\n",
       "    <tr style=\"text-align: right;\">\n",
       "      <th></th>\n",
       "      <th>merchant</th>\n",
       "      <th>time</th>\n",
       "      <th>amount_usd_in_cents</th>\n",
       "      <th>next_tran_time</th>\n",
       "      <th>time_diff</th>\n",
       "    </tr>\n",
       "  </thead>\n",
       "  <tbody>\n",
       "    <tr>\n",
       "      <th>731682</th>\n",
       "      <td>3e72388b82</td>\n",
       "      <td>2033-01-01 09:38:32</td>\n",
       "      <td>4335</td>\n",
       "      <td>2033-01-04 05:52:43</td>\n",
       "      <td>2 days 20:14:11</td>\n",
       "    </tr>\n",
       "    <tr>\n",
       "      <th>157657</th>\n",
       "      <td>32cd721943</td>\n",
       "      <td>2033-01-01 12:53:52</td>\n",
       "      <td>6019</td>\n",
       "      <td>2033-01-01 15:25:09</td>\n",
       "      <td>0 days 02:31:17</td>\n",
       "    </tr>\n",
       "    <tr>\n",
       "      <th>1471395</th>\n",
       "      <td>a8ff2d667e</td>\n",
       "      <td>2033-01-01 15:08:55</td>\n",
       "      <td>3942</td>\n",
       "      <td>2033-01-01 15:34:17</td>\n",
       "      <td>0 days 00:25:22</td>\n",
       "    </tr>\n",
       "    <tr>\n",
       "      <th>1297306</th>\n",
       "      <td>cad5cd6286</td>\n",
       "      <td>2033-01-01 15:16:32</td>\n",
       "      <td>1926</td>\n",
       "      <td>2033-01-05 16:26:50</td>\n",
       "      <td>4 days 01:10:18</td>\n",
       "    </tr>\n",
       "    <tr>\n",
       "      <th>1409868</th>\n",
       "      <td>878047f4b9</td>\n",
       "      <td>2033-01-01 15:19:16</td>\n",
       "      <td>4839</td>\n",
       "      <td>2033-01-01 20:24:49</td>\n",
       "      <td>0 days 05:05:33</td>\n",
       "    </tr>\n",
       "  </tbody>\n",
       "</table>\n",
       "</div>"
      ],
      "text/plain": [
       "           merchant                time  amount_usd_in_cents  \\\n",
       "731682   3e72388b82 2033-01-01 09:38:32                 4335   \n",
       "157657   32cd721943 2033-01-01 12:53:52                 6019   \n",
       "1471395  a8ff2d667e 2033-01-01 15:08:55                 3942   \n",
       "1297306  cad5cd6286 2033-01-01 15:16:32                 1926   \n",
       "1409868  878047f4b9 2033-01-01 15:19:16                 4839   \n",
       "\n",
       "             next_tran_time       time_diff  \n",
       "731682  2033-01-04 05:52:43 2 days 20:14:11  \n",
       "157657  2033-01-01 15:25:09 0 days 02:31:17  \n",
       "1471395 2033-01-01 15:34:17 0 days 00:25:22  \n",
       "1297306 2033-01-05 16:26:50 4 days 01:10:18  \n",
       "1409868 2033-01-01 20:24:49 0 days 05:05:33  "
      ]
     },
     "execution_count": 190,
     "metadata": {},
     "output_type": "execute_result"
    }
   ],
   "source": [
    "df_ordered.head()"
   ]
  },
  {
   "cell_type": "code",
   "execution_count": 251,
   "metadata": {},
   "outputs": [
    {
     "data": {
      "text/html": [
       "<div>\n",
       "<style scoped>\n",
       "    .dataframe tbody tr th:only-of-type {\n",
       "        vertical-align: middle;\n",
       "    }\n",
       "\n",
       "    .dataframe tbody tr th {\n",
       "        vertical-align: top;\n",
       "    }\n",
       "\n",
       "    .dataframe thead th {\n",
       "        text-align: right;\n",
       "    }\n",
       "</style>\n",
       "<table border=\"1\" class=\"dataframe\">\n",
       "  <thead>\n",
       "    <tr style=\"text-align: right;\">\n",
       "      <th></th>\n",
       "      <th>merchant</th>\n",
       "      <th>time</th>\n",
       "      <th>amount_usd_in_cents</th>\n",
       "      <th>next_tran_time</th>\n",
       "      <th>time_diff</th>\n",
       "    </tr>\n",
       "  </thead>\n",
       "  <tbody>\n",
       "    <tr>\n",
       "      <th>731682</th>\n",
       "      <td>3e72388b82</td>\n",
       "      <td>2033-01-01 09:38:32</td>\n",
       "      <td>4335</td>\n",
       "      <td>2033-01-04 05:52:43</td>\n",
       "      <td>245651.0</td>\n",
       "    </tr>\n",
       "    <tr>\n",
       "      <th>157657</th>\n",
       "      <td>32cd721943</td>\n",
       "      <td>2033-01-01 12:53:52</td>\n",
       "      <td>6019</td>\n",
       "      <td>2033-01-01 15:25:09</td>\n",
       "      <td>9077.0</td>\n",
       "    </tr>\n",
       "    <tr>\n",
       "      <th>1471395</th>\n",
       "      <td>a8ff2d667e</td>\n",
       "      <td>2033-01-01 15:08:55</td>\n",
       "      <td>3942</td>\n",
       "      <td>2033-01-01 15:34:17</td>\n",
       "      <td>1522.0</td>\n",
       "    </tr>\n",
       "    <tr>\n",
       "      <th>1297306</th>\n",
       "      <td>cad5cd6286</td>\n",
       "      <td>2033-01-01 15:16:32</td>\n",
       "      <td>1926</td>\n",
       "      <td>2033-01-05 16:26:50</td>\n",
       "      <td>349818.0</td>\n",
       "    </tr>\n",
       "    <tr>\n",
       "      <th>1409868</th>\n",
       "      <td>878047f4b9</td>\n",
       "      <td>2033-01-01 15:19:16</td>\n",
       "      <td>4839</td>\n",
       "      <td>2033-01-01 20:24:49</td>\n",
       "      <td>18333.0</td>\n",
       "    </tr>\n",
       "  </tbody>\n",
       "</table>\n",
       "</div>"
      ],
      "text/plain": [
       "           merchant                time  amount_usd_in_cents  \\\n",
       "731682   3e72388b82 2033-01-01 09:38:32                 4335   \n",
       "157657   32cd721943 2033-01-01 12:53:52                 6019   \n",
       "1471395  a8ff2d667e 2033-01-01 15:08:55                 3942   \n",
       "1297306  cad5cd6286 2033-01-01 15:16:32                 1926   \n",
       "1409868  878047f4b9 2033-01-01 15:19:16                 4839   \n",
       "\n",
       "             next_tran_time  time_diff  \n",
       "731682  2033-01-04 05:52:43   245651.0  \n",
       "157657  2033-01-01 15:25:09     9077.0  \n",
       "1471395 2033-01-01 15:34:17     1522.0  \n",
       "1297306 2033-01-05 16:26:50   349818.0  \n",
       "1409868 2033-01-01 20:24:49    18333.0  "
      ]
     },
     "execution_count": 251,
     "metadata": {},
     "output_type": "execute_result"
    }
   ],
   "source": [
    "df_ordered.head()"
   ]
  },
  {
   "cell_type": "code",
   "execution_count": 255,
   "metadata": {},
   "outputs": [
    {
     "data": {
      "text/html": [
       "<div>\n",
       "<style scoped>\n",
       "    .dataframe tbody tr th:only-of-type {\n",
       "        vertical-align: middle;\n",
       "    }\n",
       "\n",
       "    .dataframe tbody tr th {\n",
       "        vertical-align: top;\n",
       "    }\n",
       "\n",
       "    .dataframe thead th {\n",
       "        text-align: right;\n",
       "    }\n",
       "</style>\n",
       "<table border=\"1\" class=\"dataframe\">\n",
       "  <thead>\n",
       "    <tr style=\"text-align: right;\">\n",
       "      <th></th>\n",
       "      <th>merchant</th>\n",
       "      <th>time</th>\n",
       "      <th>amount_usd_in_cents</th>\n",
       "      <th>next_tran_time</th>\n",
       "      <th>time_diff</th>\n",
       "    </tr>\n",
       "  </thead>\n",
       "  <tbody>\n",
       "    <tr>\n",
       "      <th>731682</th>\n",
       "      <td>3e72388b82</td>\n",
       "      <td>2033-01-01 09:38:32</td>\n",
       "      <td>4335</td>\n",
       "      <td>2033-01-04 05:52:43</td>\n",
       "      <td>245651.0</td>\n",
       "    </tr>\n",
       "    <tr>\n",
       "      <th>157657</th>\n",
       "      <td>32cd721943</td>\n",
       "      <td>2033-01-01 12:53:52</td>\n",
       "      <td>6019</td>\n",
       "      <td>2033-01-01 15:25:09</td>\n",
       "      <td>9077.0</td>\n",
       "    </tr>\n",
       "    <tr>\n",
       "      <th>1471395</th>\n",
       "      <td>a8ff2d667e</td>\n",
       "      <td>2033-01-01 15:08:55</td>\n",
       "      <td>3942</td>\n",
       "      <td>2033-01-01 15:34:17</td>\n",
       "      <td>1522.0</td>\n",
       "    </tr>\n",
       "    <tr>\n",
       "      <th>1297306</th>\n",
       "      <td>cad5cd6286</td>\n",
       "      <td>2033-01-01 15:16:32</td>\n",
       "      <td>1926</td>\n",
       "      <td>2033-01-05 16:26:50</td>\n",
       "      <td>349818.0</td>\n",
       "    </tr>\n",
       "    <tr>\n",
       "      <th>1409868</th>\n",
       "      <td>878047f4b9</td>\n",
       "      <td>2033-01-01 15:19:16</td>\n",
       "      <td>4839</td>\n",
       "      <td>2033-01-01 20:24:49</td>\n",
       "      <td>18333.0</td>\n",
       "    </tr>\n",
       "  </tbody>\n",
       "</table>\n",
       "</div>"
      ],
      "text/plain": [
       "           merchant                time  amount_usd_in_cents  \\\n",
       "731682   3e72388b82 2033-01-01 09:38:32                 4335   \n",
       "157657   32cd721943 2033-01-01 12:53:52                 6019   \n",
       "1471395  a8ff2d667e 2033-01-01 15:08:55                 3942   \n",
       "1297306  cad5cd6286 2033-01-01 15:16:32                 1926   \n",
       "1409868  878047f4b9 2033-01-01 15:19:16                 4839   \n",
       "\n",
       "             next_tran_time  time_diff  \n",
       "731682  2033-01-04 05:52:43   245651.0  \n",
       "157657  2033-01-01 15:25:09     9077.0  \n",
       "1471395 2033-01-01 15:34:17     1522.0  \n",
       "1297306 2033-01-05 16:26:50   349818.0  \n",
       "1409868 2033-01-01 20:24:49    18333.0  "
      ]
     },
     "execution_count": 255,
     "metadata": {},
     "output_type": "execute_result"
    }
   ],
   "source": [
    "df_ordered.head()"
   ]
  },
  {
   "cell_type": "code",
   "execution_count": 191,
   "metadata": {},
   "outputs": [
    {
     "data": {
      "text/html": [
       "<div>\n",
       "<style scoped>\n",
       "    .dataframe tbody tr th:only-of-type {\n",
       "        vertical-align: middle;\n",
       "    }\n",
       "\n",
       "    .dataframe tbody tr th {\n",
       "        vertical-align: top;\n",
       "    }\n",
       "\n",
       "    .dataframe thead th {\n",
       "        text-align: right;\n",
       "    }\n",
       "</style>\n",
       "<table border=\"1\" class=\"dataframe\">\n",
       "  <thead>\n",
       "    <tr style=\"text-align: right;\">\n",
       "      <th></th>\n",
       "      <th>time</th>\n",
       "      <th>amount_usd_in_cents</th>\n",
       "      <th>next_tran_time</th>\n",
       "      <th>time_diff</th>\n",
       "    </tr>\n",
       "    <tr>\n",
       "      <th>merchant</th>\n",
       "      <th></th>\n",
       "      <th></th>\n",
       "      <th></th>\n",
       "      <th></th>\n",
       "    </tr>\n",
       "  </thead>\n",
       "  <tbody>\n",
       "    <tr>\n",
       "      <th>faa029c6b0</th>\n",
       "      <td>2033-08-07 21:47:12</td>\n",
       "      <td>31870</td>\n",
       "      <td>2033-08-10 11:44:44</td>\n",
       "      <td>2 days 13:57:32</td>\n",
       "    </tr>\n",
       "    <tr>\n",
       "      <th>faa029c6b0</th>\n",
       "      <td>2033-08-10 11:44:44</td>\n",
       "      <td>32683</td>\n",
       "      <td>2033-08-12 03:31:26</td>\n",
       "      <td>1 days 15:46:42</td>\n",
       "    </tr>\n",
       "    <tr>\n",
       "      <th>faa029c6b0</th>\n",
       "      <td>2033-08-12 03:31:26</td>\n",
       "      <td>30860</td>\n",
       "      <td>2033-08-18 17:28:42</td>\n",
       "      <td>6 days 13:57:16</td>\n",
       "    </tr>\n",
       "    <tr>\n",
       "      <th>faa029c6b0</th>\n",
       "      <td>2033-08-18 17:28:42</td>\n",
       "      <td>34812</td>\n",
       "      <td>2033-08-25 23:32:52</td>\n",
       "      <td>7 days 06:04:10</td>\n",
       "    </tr>\n",
       "    <tr>\n",
       "      <th>faa029c6b0</th>\n",
       "      <td>2033-08-25 23:32:52</td>\n",
       "      <td>15992</td>\n",
       "      <td>2033-08-30 10:26:44</td>\n",
       "      <td>4 days 10:53:52</td>\n",
       "    </tr>\n",
       "    <tr>\n",
       "      <th>...</th>\n",
       "      <td>...</td>\n",
       "      <td>...</td>\n",
       "      <td>...</td>\n",
       "      <td>...</td>\n",
       "    </tr>\n",
       "    <tr>\n",
       "      <th>faa029c6b0</th>\n",
       "      <td>2034-12-28 21:56:55</td>\n",
       "      <td>15768</td>\n",
       "      <td>2034-12-29 00:36:28</td>\n",
       "      <td>0 days 02:39:33</td>\n",
       "    </tr>\n",
       "    <tr>\n",
       "      <th>faa029c6b0</th>\n",
       "      <td>2034-12-29 00:36:28</td>\n",
       "      <td>14118</td>\n",
       "      <td>2034-12-29 01:46:10</td>\n",
       "      <td>0 days 01:09:42</td>\n",
       "    </tr>\n",
       "    <tr>\n",
       "      <th>faa029c6b0</th>\n",
       "      <td>2034-12-29 01:46:10</td>\n",
       "      <td>41285</td>\n",
       "      <td>2034-12-29 21:20:43</td>\n",
       "      <td>0 days 19:34:33</td>\n",
       "    </tr>\n",
       "    <tr>\n",
       "      <th>faa029c6b0</th>\n",
       "      <td>2034-12-29 21:20:43</td>\n",
       "      <td>13781</td>\n",
       "      <td>2034-12-30 20:57:25</td>\n",
       "      <td>0 days 23:36:42</td>\n",
       "    </tr>\n",
       "    <tr>\n",
       "      <th>faa029c6b0</th>\n",
       "      <td>2034-12-30 20:57:25</td>\n",
       "      <td>5737</td>\n",
       "      <td>NaT</td>\n",
       "      <td>NaT</td>\n",
       "    </tr>\n",
       "  </tbody>\n",
       "</table>\n",
       "<p>544 rows × 4 columns</p>\n",
       "</div>"
      ],
      "text/plain": [
       "                          time  amount_usd_in_cents      next_tran_time  \\\n",
       "merchant                                                                  \n",
       "faa029c6b0 2033-08-07 21:47:12                31870 2033-08-10 11:44:44   \n",
       "faa029c6b0 2033-08-10 11:44:44                32683 2033-08-12 03:31:26   \n",
       "faa029c6b0 2033-08-12 03:31:26                30860 2033-08-18 17:28:42   \n",
       "faa029c6b0 2033-08-18 17:28:42                34812 2033-08-25 23:32:52   \n",
       "faa029c6b0 2033-08-25 23:32:52                15992 2033-08-30 10:26:44   \n",
       "...                        ...                  ...                 ...   \n",
       "faa029c6b0 2034-12-28 21:56:55                15768 2034-12-29 00:36:28   \n",
       "faa029c6b0 2034-12-29 00:36:28                14118 2034-12-29 01:46:10   \n",
       "faa029c6b0 2034-12-29 01:46:10                41285 2034-12-29 21:20:43   \n",
       "faa029c6b0 2034-12-29 21:20:43                13781 2034-12-30 20:57:25   \n",
       "faa029c6b0 2034-12-30 20:57:25                 5737                 NaT   \n",
       "\n",
       "                 time_diff  \n",
       "merchant                    \n",
       "faa029c6b0 2 days 13:57:32  \n",
       "faa029c6b0 1 days 15:46:42  \n",
       "faa029c6b0 6 days 13:57:16  \n",
       "faa029c6b0 7 days 06:04:10  \n",
       "faa029c6b0 4 days 10:53:52  \n",
       "...                    ...  \n",
       "faa029c6b0 0 days 02:39:33  \n",
       "faa029c6b0 0 days 01:09:42  \n",
       "faa029c6b0 0 days 19:34:33  \n",
       "faa029c6b0 0 days 23:36:42  \n",
       "faa029c6b0             NaT  \n",
       "\n",
       "[544 rows x 4 columns]"
      ]
     },
     "execution_count": 191,
     "metadata": {},
     "output_type": "execute_result"
    }
   ],
   "source": [
    "df_ordered.set_index('merchant').loc['faa029c6b0']"
   ]
  },
  {
   "cell_type": "code",
   "execution_count": 184,
   "metadata": {
    "scrolled": true
   },
   "outputs": [
    {
     "data": {
      "text/plain": [
       "(544, 3)"
      ]
     },
     "execution_count": 184,
     "metadata": {},
     "output_type": "execute_result"
    }
   ],
   "source": [
    "df.set_index('merchant').loc['faa029c6b0'].shape"
   ]
  },
  {
   "cell_type": "code",
   "execution_count": 211,
   "metadata": {},
   "outputs": [],
   "source": [
    "exp_dis = df_ordered.set_index('merchant').loc['faa029c6b0'].time_diff.apply(lambda x:x.total_seconds())"
   ]
  },
  {
   "cell_type": "code",
   "execution_count": 219,
   "metadata": {},
   "outputs": [
    {
     "data": {
      "text/plain": [
       "<matplotlib.axes._subplots.AxesSubplot at 0x2b61ce2ee48>"
      ]
     },
     "execution_count": 219,
     "metadata": {},
     "output_type": "execute_result"
    },
    {
     "data": {
      "image/png": "[encoded data removed]",
      "text/plain": [
       "<Figure size 432x288 with 1 Axes>"
      ]
     },
     "metadata": {
      "needs_background": "light"
     },
     "output_type": "display_data"
    }
   ],
   "source": [
    "(exp_dis/100).plot.hist(bins=100)"
   ]
  },
  {
   "cell_type": "code",
   "execution_count": 237,
   "metadata": {},
   "outputs": [
    {
     "data": {
      "text/plain": [
       "<matplotlib.axes._subplots.AxesSubplot at 0x2b61d00def0>"
      ]
     },
     "execution_count": 237,
     "metadata": {},
     "output_type": "execute_result"
    },
    {
     "data": {
      "image/png": "[encoded data removed]",
      "text/plain": [
       "<Figure size 432x288 with 1 Axes>"
      ]
     },
     "metadata": {
      "needs_background": "light"
     },
     "output_type": "display_data"
    }
   ],
   "source": [
    "(exp_dis).plot.hist(bins=10)"
   ]
  },
  {
   "cell_type": "code",
   "execution_count": 223,
   "metadata": {},
   "outputs": [
    {
     "data": {
      "text/plain": [
       "[1284152.0,\n",
       " 711843.0,\n",
       " 626650.0,\n",
       " 593898.0,\n",
       " 582657.0,\n",
       " 568636.0,\n",
       " 509425.0,\n",
       " 464750.0,\n",
       " 438747.0,\n",
       " 420739.0,\n",
       " 412377.0,\n",
       " 384832.0,\n",
       " 370272.0,\n",
       " 370019.0,\n",
       " 368069.0,\n",
       " 366228.0,\n",
       " 348816.0,\n",
       " 346185.0,\n",
       " 343480.0,\n",
       " 337101.0,\n",
       " 334342.0,\n",
       " 332093.0,\n",
       " 331695.0,\n",
       " 319760.0,\n",
       " 316055.0,\n",
       " 313432.0,\n",
       " 309520.0,\n",
       " 308760.0,\n",
       " 292865.0,\n",
       " 273695.0,\n",
       " 271670.0,\n",
       " 265199.0,\n",
       " 260149.0,\n",
       " 256610.0,\n",
       " 256104.0,\n",
       " 254258.0,\n",
       " 250944.0,\n",
       " 249812.0,\n",
       " 244115.0,\n",
       " 241778.0,\n",
       " 241340.0,\n",
       " 239462.0,\n",
       " 234826.0,\n",
       " 233716.0,\n",
       " 231515.0,\n",
       " 224713.0,\n",
       " 223052.0,\n",
       " 222320.0,\n",
       " 217780.0,\n",
       " 213296.0,\n",
       " 210826.0,\n",
       " 209013.0,\n",
       " 200285.0,\n",
       " 198072.0,\n",
       " 196228.0,\n",
       " 195507.0,\n",
       " 193191.0,\n",
       " 192664.0,\n",
       " 188147.0,\n",
       " 187031.0,\n",
       " 185887.0,\n",
       " 184799.0,\n",
       " 182501.0,\n",
       " 182354.0,\n",
       " 181756.0,\n",
       " 181488.0,\n",
       " 180778.0,\n",
       " 179823.0,\n",
       " 177917.0,\n",
       " 177308.0,\n",
       " 175499.0,\n",
       " 174264.0,\n",
       " 173064.0,\n",
       " 171299.0,\n",
       " 170773.0,\n",
       " 170703.0,\n",
       " 168574.0,\n",
       " 167978.0,\n",
       " 167588.0,\n",
       " 166585.0,\n",
       " 165955.0,\n",
       " 165254.0,\n",
       " 165100.0,\n",
       " 164891.0,\n",
       " 162121.0,\n",
       " 161003.0,\n",
       " 160832.0,\n",
       " 160360.0,\n",
       " 159625.0,\n",
       " 158758.0,\n",
       " 157016.0,\n",
       " 156387.0,\n",
       " 155805.0,\n",
       " 154630.0,\n",
       " 153886.0,\n",
       " 153170.0,\n",
       " 153161.0,\n",
       " 150686.0,\n",
       " 150447.0,\n",
       " 149342.0,\n",
       " 148737.0,\n",
       " 148223.0,\n",
       " 147279.0,\n",
       " 143638.0,\n",
       " 143202.0,\n",
       " 143007.0,\n",
       " 142007.0,\n",
       " 141587.0,\n",
       " 141366.0,\n",
       " 139202.0,\n",
       " 137203.0,\n",
       " 136732.0,\n",
       " 135587.0,\n",
       " 134524.0,\n",
       " 128660.0,\n",
       " 125471.0,\n",
       " 125235.0,\n",
       " 119523.0,\n",
       " 119355.0,\n",
       " 115175.0,\n",
       " 113541.0,\n",
       " 112975.0,\n",
       " 112458.0,\n",
       " 112217.0,\n",
       " 112146.0,\n",
       " 111694.0,\n",
       " 111476.0,\n",
       " 109342.0,\n",
       " 108576.0,\n",
       " 108288.0,\n",
       " 107880.0,\n",
       " 106548.0,\n",
       " 105719.0,\n",
       " 105499.0,\n",
       " 104491.0,\n",
       " 104307.0,\n",
       " 103713.0,\n",
       " 102793.0,\n",
       " 102753.0,\n",
       " 102522.0,\n",
       " 101585.0,\n",
       " 100059.0,\n",
       " 99635.0,\n",
       " 99215.0,\n",
       " 98107.0,\n",
       " 96908.0,\n",
       " 94344.0,\n",
       " 93744.0,\n",
       " 93174.0,\n",
       " 93082.0,\n",
       " 92965.0,\n",
       " 91845.0,\n",
       " 91646.0,\n",
       " 91398.0,\n",
       " 90610.0,\n",
       " 89766.0,\n",
       " 89180.0,\n",
       " 89079.0,\n",
       " 88975.0,\n",
       " 88882.0,\n",
       " 88655.0,\n",
       " 88410.0,\n",
       " 85002.0,\n",
       " 84954.0,\n",
       " 84555.0,\n",
       " 84533.0,\n",
       " 84467.0,\n",
       " 83900.0,\n",
       " 83625.0,\n",
       " 82735.0,\n",
       " 82196.0,\n",
       " 81484.0,\n",
       " 81155.0,\n",
       " 80843.0,\n",
       " 80034.0,\n",
       " 79633.0,\n",
       " 79472.0,\n",
       " 78978.0,\n",
       " 78899.0,\n",
       " 78570.0,\n",
       " 78076.0,\n",
       " 77744.0,\n",
       " 77730.0,\n",
       " 77656.0,\n",
       " 77603.0,\n",
       " 77465.0,\n",
       " 77391.0,\n",
       " 76851.0,\n",
       " 76670.0,\n",
       " 75794.0,\n",
       " 75751.0,\n",
       " 75021.0,\n",
       " 74751.0,\n",
       " 74516.0,\n",
       " 73814.0,\n",
       " 73576.0,\n",
       " 73310.0,\n",
       " 73081.0,\n",
       " 73036.0,\n",
       " 72711.0,\n",
       " 72543.0,\n",
       " 70473.0,\n",
       " 70420.0,\n",
       " 70244.0,\n",
       " 70160.0,\n",
       " 69930.0,\n",
       " 68865.0,\n",
       " 68508.0,\n",
       " 68398.0,\n",
       " 67873.0,\n",
       " 67758.0,\n",
       " 67724.0,\n",
       " 65986.0,\n",
       " 65986.0,\n",
       " 65724.0,\n",
       " 65520.0,\n",
       " 65274.0,\n",
       " 65110.0,\n",
       " 64751.0,\n",
       " 63439.0,\n",
       " 63251.0,\n",
       " 62499.0,\n",
       " 62462.0,\n",
       " 61823.0,\n",
       " 61661.0,\n",
       " 61326.0,\n",
       " 61220.0,\n",
       " 60704.0,\n",
       " 59013.0,\n",
       " 58923.0,\n",
       " 58381.0,\n",
       " 58255.0,\n",
       " 57718.0,\n",
       " 57462.0,\n",
       " 57411.0,\n",
       " 56599.0,\n",
       " 56573.0,\n",
       " 55721.0,\n",
       " 55402.0,\n",
       " 54967.0,\n",
       " 54918.0,\n",
       " 54911.0,\n",
       " 54135.0,\n",
       " 53082.0,\n",
       " 52977.0,\n",
       " 52791.0,\n",
       " 52718.0,\n",
       " 51517.0,\n",
       " 51365.0,\n",
       " 51221.0,\n",
       " 50572.0,\n",
       " 50299.0,\n",
       " 50153.0,\n",
       " 50051.0,\n",
       " 49328.0,\n",
       " 49301.0,\n",
       " 49266.0,\n",
       " 49129.0,\n",
       " 48684.0,\n",
       " 48617.0,\n",
       " 48424.0,\n",
       " 48184.0,\n",
       " 48179.0,\n",
       " 47436.0,\n",
       " 47246.0,\n",
       " 47106.0,\n",
       " 46352.0,\n",
       " 46118.0,\n",
       " 45849.0,\n",
       " 45544.0,\n",
       " 42868.0,\n",
       " 42268.0,\n",
       " 42155.0,\n",
       " 41560.0,\n",
       " 41101.0,\n",
       " 40797.0,\n",
       " 40768.0,\n",
       " 40265.0,\n",
       " 40137.0,\n",
       " 38521.0,\n",
       " 38423.0,\n",
       " 38240.0,\n",
       " 37965.0,\n",
       " 36816.0,\n",
       " 36569.0,\n",
       " 35241.0,\n",
       " 34629.0,\n",
       " 34434.0,\n",
       " 33954.0,\n",
       " 33899.0,\n",
       " 33857.0,\n",
       " 32961.0,\n",
       " 32925.0,\n",
       " 32505.0,\n",
       " 32422.0,\n",
       " 32332.0,\n",
       " 32074.0,\n",
       " 31224.0,\n",
       " 31173.0,\n",
       " 30870.0,\n",
       " 30369.0,\n",
       " 30090.0,\n",
       " 30041.0,\n",
       " 29904.0,\n",
       " 29397.0,\n",
       " 29348.0,\n",
       " 29005.0,\n",
       " 27850.0,\n",
       " 27715.0,\n",
       " 27616.0,\n",
       " 27582.0,\n",
       " 26991.0,\n",
       " 26695.0,\n",
       " 26128.0,\n",
       " 25988.0,\n",
       " 25955.0,\n",
       " 25877.0,\n",
       " 25737.0,\n",
       " 25520.0,\n",
       " 25469.0,\n",
       " 25411.0,\n",
       " 25269.0,\n",
       " 25156.0,\n",
       " 24674.0,\n",
       " 24610.0,\n",
       " 24555.0,\n",
       " 24467.0,\n",
       " 24350.0,\n",
       " 24150.0,\n",
       " 24075.0,\n",
       " 24015.0,\n",
       " 23939.0,\n",
       " 23651.0,\n",
       " 23617.0,\n",
       " 22527.0,\n",
       " 22328.0,\n",
       " 22241.0,\n",
       " 21979.0,\n",
       " 21969.0,\n",
       " 21646.0,\n",
       " 21455.0,\n",
       " 20553.0,\n",
       " 20501.0,\n",
       " 19863.0,\n",
       " 19847.0,\n",
       " 19389.0,\n",
       " 18972.0,\n",
       " 18913.0,\n",
       " 18785.0,\n",
       " 18628.0,\n",
       " 18370.0,\n",
       " 18186.0,\n",
       " 18135.0,\n",
       " 18123.0,\n",
       " 18097.0,\n",
       " 18041.0,\n",
       " 17836.0,\n",
       " 16832.0,\n",
       " 16777.0,\n",
       " 16758.0,\n",
       " 16352.0,\n",
       " 15963.0,\n",
       " 15804.0,\n",
       " 15717.0,\n",
       " 15326.0,\n",
       " 15079.0,\n",
       " 15017.0,\n",
       " 14813.0,\n",
       " 14736.0,\n",
       " 14518.0,\n",
       " 14502.0,\n",
       " 14451.0,\n",
       " 14435.0,\n",
       " 14144.0,\n",
       " 13718.0,\n",
       " 13676.0,\n",
       " 13627.0,\n",
       " 13619.0,\n",
       " 13552.0,\n",
       " 12963.0,\n",
       " 12889.0,\n",
       " 12618.0,\n",
       " 12450.0,\n",
       " 12260.0,\n",
       " 12194.0,\n",
       " 12027.0,\n",
       " 12025.0,\n",
       " 11864.0,\n",
       " 11725.0,\n",
       " 11553.0,\n",
       " 11442.0,\n",
       " 11395.0,\n",
       " 11347.0,\n",
       " 11325.0,\n",
       " 11202.0,\n",
       " 11150.0,\n",
       " 11024.0,\n",
       " 10993.0,\n",
       " 10847.0,\n",
       " 10660.0,\n",
       " 10574.0,\n",
       " 10462.0,\n",
       " 10446.0,\n",
       " 10219.0,\n",
       " 10178.0,\n",
       " 10148.0,\n",
       " 10058.0,\n",
       " 10047.0,\n",
       " 9931.0,\n",
       " 9852.0,\n",
       " 9834.0,\n",
       " 9573.0,\n",
       " 9376.0,\n",
       " 8994.0,\n",
       " 8742.0,\n",
       " 8541.0,\n",
       " 8484.0,\n",
       " 8430.0,\n",
       " 8400.0,\n",
       " 8336.0,\n",
       " 8209.0,\n",
       " 8187.0,\n",
       " 8152.0,\n",
       " 7578.0,\n",
       " 7477.0,\n",
       " 7463.0,\n",
       " 7419.0,\n",
       " 7264.0,\n",
       " 7253.0,\n",
       " 7183.0,\n",
       " 7139.0,\n",
       " 7043.0,\n",
       " 6923.0,\n",
       " 6873.0,\n",
       " 6847.0,\n",
       " 6845.0,\n",
       " 6707.0,\n",
       " 6663.0,\n",
       " 6634.0,\n",
       " 6577.0,\n",
       " 6559.0,\n",
       " 6539.0,\n",
       " 6471.0,\n",
       " 6469.0,\n",
       " 6455.0,\n",
       " 6448.0,\n",
       " 6400.0,\n",
       " 6133.0,\n",
       " 6129.0,\n",
       " 6099.0,\n",
       " 6009.0,\n",
       " 5928.0,\n",
       " 5889.0,\n",
       " 5847.0,\n",
       " 5844.0,\n",
       " 5602.0,\n",
       " 5550.0,\n",
       " 5527.0,\n",
       " 5456.0,\n",
       " 5429.0,\n",
       " 5253.0,\n",
       " 5219.0,\n",
       " 4960.0,\n",
       " 4918.0,\n",
       " 4735.0,\n",
       " 4595.0,\n",
       " 4523.0,\n",
       " 4398.0,\n",
       " 4292.0,\n",
       " 4228.0,\n",
       " 4208.0,\n",
       " 4182.0,\n",
       " 3678.0,\n",
       " 3602.0,\n",
       " 3580.0,\n",
       " 3526.0,\n",
       " 3396.0,\n",
       " 3281.0,\n",
       " 3215.0,\n",
       " 3133.0,\n",
       " 3066.0,\n",
       " 2980.0,\n",
       " 2975.0,\n",
       " 2906.0,\n",
       " 2863.0,\n",
       " 2803.0,\n",
       " 2749.0,\n",
       " 2607.0,\n",
       " 2548.0,\n",
       " 2509.0,\n",
       " 2494.0,\n",
       " 2490.0,\n",
       " 2425.0,\n",
       " 2425.0,\n",
       " 2211.0,\n",
       " 2189.0,\n",
       " 2071.0,\n",
       " 2058.0,\n",
       " 2052.0,\n",
       " 2039.0,\n",
       " 2030.0,\n",
       " 2000.0,\n",
       " 1895.0,\n",
       " 1709.0,\n",
       " 1669.0,\n",
       " 1644.0,\n",
       " 1626.0,\n",
       " 1618.0,\n",
       " 1605.0,\n",
       " 1544.0,\n",
       " 1509.0,\n",
       " 1460.0,\n",
       " 1442.0,\n",
       " 1396.0,\n",
       " 1356.0,\n",
       " 1311.0,\n",
       " 1281.0,\n",
       " 1229.0,\n",
       " 1202.0,\n",
       " 1084.0,\n",
       " 1081.0,\n",
       " 957.0,\n",
       " 795.0,\n",
       " 754.0,\n",
       " 752.0,\n",
       " 729.0,\n",
       " 653.0,\n",
       " 634.0,\n",
       " 623.0,\n",
       " 585.0,\n",
       " 561.0,\n",
       " 477.0,\n",
       " 462.0,\n",
       " 428.0,\n",
       " 426.0,\n",
       " 399.0,\n",
       " 380.0,\n",
       " 372.0,\n",
       " 344.0,\n",
       " 301.0,\n",
       " 298.0,\n",
       " 73.0,\n",
       " 61.0,\n",
       " nan]"
      ]
     },
     "execution_count": 223,
     "metadata": {},
     "output_type": "execute_result"
    }
   ],
   "source": [
    "sorted(exp_dis,reverse=True)"
   ]
  },
  {
   "cell_type": "code",
   "execution_count": 239,
   "metadata": {},
   "outputs": [
    {
     "data": {
      "text/plain": [
       "198072.0"
      ]
     },
     "execution_count": 239,
     "metadata": {},
     "output_type": "execute_result"
    }
   ],
   "source": [
    "sorted(exp_dis,reverse=False)[int(len(exp_dis)*0.9)]#/exp_dis[:-1].sum()"
   ]
  },
  {
   "cell_type": "code",
   "execution_count": 235,
   "metadata": {},
   "outputs": [
    {
     "data": {
      "text/plain": [
       "544"
      ]
     },
     "execution_count": 235,
     "metadata": {},
     "output_type": "execute_result"
    }
   ],
   "source": [
    "len(exp_dis)"
   ]
  },
  {
   "cell_type": "code",
   "execution_count": null,
   "metadata": {},
   "outputs": [],
   "source": []
  },
  {
   "cell_type": "code",
   "execution_count": 217,
   "metadata": {},
   "outputs": [
    {
     "data": {
      "text/plain": [
       "<matplotlib.axes._subplots.AxesSubplot at 0x2b61cde5cc0>"
      ]
     },
     "execution_count": 217,
     "metadata": {},
     "output_type": "execute_result"
    },
    {
     "data": {
      "image/png": "[encoded data removed]",
      "text/plain": [
       "<Figure size 432x288 with 1 Axes>"
      ]
     },
     "metadata": {
      "needs_background": "light"
     },
     "output_type": "display_data"
    }
   ],
   "source": [
    "exp_dis[:-1].plot.density()"
   ]
  },
  {
   "cell_type": "code",
   "execution_count": 210,
   "metadata": {},
   "outputs": [
    {
     "data": {
      "text/plain": [
       "223052000000000"
      ]
     },
     "execution_count": 210,
     "metadata": {},
     "output_type": "execute_result"
    }
   ],
   "source": [
    "exp_dis[0].delta"
   ]
  },
  {
   "cell_type": "code",
   "execution_count": 242,
   "metadata": {},
   "outputs": [
    {
     "data": {
      "text/html": [
       "<div>\n",
       "<style scoped>\n",
       "    .dataframe tbody tr th:only-of-type {\n",
       "        vertical-align: middle;\n",
       "    }\n",
       "\n",
       "    .dataframe tbody tr th {\n",
       "        vertical-align: top;\n",
       "    }\n",
       "\n",
       "    .dataframe thead th {\n",
       "        text-align: right;\n",
       "    }\n",
       "</style>\n",
       "<table border=\"1\" class=\"dataframe\">\n",
       "  <thead>\n",
       "    <tr style=\"text-align: right;\">\n",
       "      <th></th>\n",
       "      <th>time</th>\n",
       "      <th>amount_usd_in_cents</th>\n",
       "      <th>next_tran_time</th>\n",
       "      <th>time_diff</th>\n",
       "    </tr>\n",
       "    <tr>\n",
       "      <th>merchant</th>\n",
       "      <th></th>\n",
       "      <th></th>\n",
       "      <th></th>\n",
       "      <th></th>\n",
       "    </tr>\n",
       "  </thead>\n",
       "  <tbody>\n",
       "    <tr>\n",
       "      <th>faa029c6b0</th>\n",
       "      <td>2033-08-07 21:47:12</td>\n",
       "      <td>31870</td>\n",
       "      <td>2033-08-10 11:44:44</td>\n",
       "      <td>2 days 13:57:32</td>\n",
       "    </tr>\n",
       "    <tr>\n",
       "      <th>faa029c6b0</th>\n",
       "      <td>2033-08-10 11:44:44</td>\n",
       "      <td>32683</td>\n",
       "      <td>2033-08-12 03:31:26</td>\n",
       "      <td>1 days 15:46:42</td>\n",
       "    </tr>\n",
       "    <tr>\n",
       "      <th>faa029c6b0</th>\n",
       "      <td>2033-08-12 03:31:26</td>\n",
       "      <td>30860</td>\n",
       "      <td>2033-08-18 17:28:42</td>\n",
       "      <td>6 days 13:57:16</td>\n",
       "    </tr>\n",
       "    <tr>\n",
       "      <th>faa029c6b0</th>\n",
       "      <td>2033-08-18 17:28:42</td>\n",
       "      <td>34812</td>\n",
       "      <td>2033-08-25 23:32:52</td>\n",
       "      <td>7 days 06:04:10</td>\n",
       "    </tr>\n",
       "    <tr>\n",
       "      <th>faa029c6b0</th>\n",
       "      <td>2033-08-25 23:32:52</td>\n",
       "      <td>15992</td>\n",
       "      <td>2033-08-30 10:26:44</td>\n",
       "      <td>4 days 10:53:52</td>\n",
       "    </tr>\n",
       "  </tbody>\n",
       "</table>\n",
       "</div>"
      ],
      "text/plain": [
       "                          time  amount_usd_in_cents      next_tran_time  \\\n",
       "merchant                                                                  \n",
       "faa029c6b0 2033-08-07 21:47:12                31870 2033-08-10 11:44:44   \n",
       "faa029c6b0 2033-08-10 11:44:44                32683 2033-08-12 03:31:26   \n",
       "faa029c6b0 2033-08-12 03:31:26                30860 2033-08-18 17:28:42   \n",
       "faa029c6b0 2033-08-18 17:28:42                34812 2033-08-25 23:32:52   \n",
       "faa029c6b0 2033-08-25 23:32:52                15992 2033-08-30 10:26:44   \n",
       "\n",
       "                 time_diff  \n",
       "merchant                    \n",
       "faa029c6b0 2 days 13:57:32  \n",
       "faa029c6b0 1 days 15:46:42  \n",
       "faa029c6b0 6 days 13:57:16  \n",
       "faa029c6b0 7 days 06:04:10  \n",
       "faa029c6b0 4 days 10:53:52  "
      ]
     },
     "execution_count": 242,
     "metadata": {},
     "output_type": "execute_result"
    }
   ],
   "source": [
    "df_ordered.set_index('merchant').loc['faa029c6b0'].head()"
   ]
  },
  {
   "cell_type": "markdown",
   "metadata": {},
   "source": [
    "#### update transform functions"
   ]
  },
  {
   "cell_type": "code",
   "execution_count": 356,
   "metadata": {},
   "outputs": [],
   "source": [
    "def get_agg_merchants(df):\n",
    "    start =  df.groupby('merchant')['time'].min().to_frame('start_time')\n",
    "    end = df.groupby('merchant')['time'].max().to_frame('end_time')\n",
    "    counts = df.groupby('merchant')['time'].count().to_frame('transaction_counts')\n",
    "    time_diff = df.groupby('merchant')['time_diff'].mean().to_frame('time_btween')\n",
    "    total_sales = df.groupby('merchant')['amount_usd_in_cents'].sum().to_frame('total_sales')\n",
    "    sales_per = df.groupby('merchant')['amount_usd_in_cents'].mean().to_frame('sales_pertrans')\n",
    "    df['hours'] = df.time.apply(lambda x:x.time().hour)\n",
    "    time_of_day = df.groupby('merchant')['hours'].mean().to_frame('time_of_day')\n",
    "    #daily_trans = df.apply(lambda x:x.counts/(x.end_time-x.start_time).days)\n",
    "    results = start.join(end).join(counts).join(time_diff).join(total_sales).join(sales_per).join(time_of_day)\n",
    "    return results.sort_values('transaction_counts',ascending=False)"
   ]
  },
  {
   "cell_type": "code",
   "execution_count": 351,
   "metadata": {},
   "outputs": [],
   "source": [
    "    df['hours'] = df.time.apply(lambda x:x.time().hour)\n"
   ]
  },
  {
   "cell_type": "code",
   "execution_count": 259,
   "metadata": {},
   "outputs": [
    {
     "data": {
      "text/plain": [
       "time                   2033-05-16 20:07:57\n",
       "amount_usd_in_cents                   3379\n",
       "next_tran_time                         NaT\n",
       "time_diff                              NaN\n",
       "Name: 0002b63b92, dtype: object"
      ]
     },
     "execution_count": 259,
     "metadata": {},
     "output_type": "execute_result"
    }
   ],
   "source": [
    "df_ordered.set_index('merchant').loc['0002b63b92']"
   ]
  },
  {
   "cell_type": "code",
   "execution_count": 260,
   "metadata": {},
   "outputs": [],
   "source": [
    "time_diff = df_ordered.groupby('merchant')['time_diff'].mean().to_frame('time_btween')"
   ]
  },
  {
   "cell_type": "code",
   "execution_count": 265,
   "metadata": {},
   "outputs": [
    {
     "data": {
      "text/html": [
       "<div>\n",
       "<style scoped>\n",
       "    .dataframe tbody tr th:only-of-type {\n",
       "        vertical-align: middle;\n",
       "    }\n",
       "\n",
       "    .dataframe tbody tr th {\n",
       "        vertical-align: top;\n",
       "    }\n",
       "\n",
       "    .dataframe thead th {\n",
       "        text-align: right;\n",
       "    }\n",
       "</style>\n",
       "<table border=\"1\" class=\"dataframe\">\n",
       "  <thead>\n",
       "    <tr style=\"text-align: right;\">\n",
       "      <th></th>\n",
       "      <th>time</th>\n",
       "      <th>amount_usd_in_cents</th>\n",
       "      <th>next_tran_time</th>\n",
       "      <th>time_diff</th>\n",
       "    </tr>\n",
       "    <tr>\n",
       "      <th>merchant</th>\n",
       "      <th></th>\n",
       "      <th></th>\n",
       "      <th></th>\n",
       "      <th></th>\n",
       "    </tr>\n",
       "  </thead>\n",
       "  <tbody>\n",
       "    <tr>\n",
       "      <th>69d984dfd1</th>\n",
       "      <td>2033-09-19 14:02:05</td>\n",
       "      <td>35562</td>\n",
       "      <td>2033-09-22 14:11:25</td>\n",
       "      <td>259760.0</td>\n",
       "    </tr>\n",
       "    <tr>\n",
       "      <th>69d984dfd1</th>\n",
       "      <td>2033-09-22 14:11:25</td>\n",
       "      <td>19292</td>\n",
       "      <td>NaT</td>\n",
       "      <td>NaN</td>\n",
       "    </tr>\n",
       "  </tbody>\n",
       "</table>\n",
       "</div>"
      ],
      "text/plain": [
       "                          time  amount_usd_in_cents      next_tran_time  \\\n",
       "merchant                                                                  \n",
       "69d984dfd1 2033-09-19 14:02:05                35562 2033-09-22 14:11:25   \n",
       "69d984dfd1 2033-09-22 14:11:25                19292                 NaT   \n",
       "\n",
       "            time_diff  \n",
       "merchant               \n",
       "69d984dfd1   259760.0  \n",
       "69d984dfd1        NaN  "
      ]
     },
     "execution_count": 265,
     "metadata": {},
     "output_type": "execute_result"
    }
   ],
   "source": [
    "df_ordered.set_index('merchant').loc['69d984dfd1']"
   ]
  },
  {
   "cell_type": "markdown",
   "metadata": {},
   "source": [
    "##### all the na from calculate time difference are merchants only have 1 transaction records"
   ]
  },
  {
   "cell_type": "code",
   "execution_count": 268,
   "metadata": {},
   "outputs": [
    {
     "data": {
      "text/plain": [
       "array([1666])"
      ]
     },
     "execution_count": 268,
     "metadata": {},
     "output_type": "execute_result"
    }
   ],
   "source": [
    "sum(time_diff.isna().values)"
   ]
  },
  {
   "cell_type": "code",
   "execution_count": 271,
   "metadata": {},
   "outputs": [
    {
     "data": {
      "text/plain": [
       "(1666, 1)"
      ]
     },
     "execution_count": 271,
     "metadata": {},
     "output_type": "execute_result"
    }
   ],
   "source": [
    "num_trans[num_trans.counts==1].shape"
   ]
  },
  {
   "cell_type": "code",
   "execution_count": 275,
   "metadata": {},
   "outputs": [
    {
     "data": {
      "text/plain": [
       "(14351, 1)"
      ]
     },
     "execution_count": 275,
     "metadata": {},
     "output_type": "execute_result"
    }
   ],
   "source": [
    "time_diff.shape"
   ]
  },
  {
   "cell_type": "code",
   "execution_count": 288,
   "metadata": {},
   "outputs": [],
   "source": [
    "agg_mer = get_agg_merchants(df_ordered)"
   ]
  },
  {
   "cell_type": "code",
   "execution_count": 282,
   "metadata": {},
   "outputs": [
    {
     "data": {
      "text/plain": [
       "-1666"
      ]
     },
     "execution_count": 282,
     "metadata": {},
     "output_type": "execute_result"
    }
   ],
   "source": [
    "agg_mer.dropna(inplace=True)\n",
    "agg_mer.shape[0]-14351 # should be -1666, the merchants with only 1 history\n"
   ]
  },
  {
   "cell_type": "code",
   "execution_count": 289,
   "metadata": {},
   "outputs": [
    {
     "data": {
      "text/html": [
       "<div>\n",
       "<style scoped>\n",
       "    .dataframe tbody tr th:only-of-type {\n",
       "        vertical-align: middle;\n",
       "    }\n",
       "\n",
       "    .dataframe tbody tr th {\n",
       "        vertical-align: top;\n",
       "    }\n",
       "\n",
       "    .dataframe thead th {\n",
       "        text-align: right;\n",
       "    }\n",
       "</style>\n",
       "<table border=\"1\" class=\"dataframe\">\n",
       "  <thead>\n",
       "    <tr style=\"text-align: right;\">\n",
       "      <th></th>\n",
       "      <th>start_time</th>\n",
       "      <th>end_time</th>\n",
       "      <th>transaction_counts</th>\n",
       "      <th>time_btween</th>\n",
       "      <th>total_sales</th>\n",
       "    </tr>\n",
       "    <tr>\n",
       "      <th>merchant</th>\n",
       "      <th></th>\n",
       "      <th></th>\n",
       "      <th></th>\n",
       "      <th></th>\n",
       "      <th></th>\n",
       "    </tr>\n",
       "  </thead>\n",
       "  <tbody>\n",
       "    <tr>\n",
       "      <th>5608f200cf</th>\n",
       "      <td>2033-03-29 21:21:57</td>\n",
       "      <td>2034-12-31 04:44:54</td>\n",
       "      <td>25512</td>\n",
       "      <td>2171.964133</td>\n",
       "      <td>20911571</td>\n",
       "    </tr>\n",
       "    <tr>\n",
       "      <th>53b3fbeae2</th>\n",
       "      <td>2033-11-29 20:40:04</td>\n",
       "      <td>2034-12-31 06:13:56</td>\n",
       "      <td>12178</td>\n",
       "      <td>2812.583723</td>\n",
       "      <td>60733740</td>\n",
       "    </tr>\n",
       "    <tr>\n",
       "      <th>1ddaea9838</th>\n",
       "      <td>2033-01-03 15:16:32</td>\n",
       "      <td>2034-12-31 07:23:54</td>\n",
       "      <td>12042</td>\n",
       "      <td>5214.221576</td>\n",
       "      <td>41443545</td>\n",
       "    </tr>\n",
       "    <tr>\n",
       "      <th>89e2d29885</th>\n",
       "      <td>2033-01-25 21:56:56</td>\n",
       "      <td>2034-12-31 02:05:34</td>\n",
       "      <td>11969</td>\n",
       "      <td>5083.599432</td>\n",
       "      <td>18054500</td>\n",
       "    </tr>\n",
       "    <tr>\n",
       "      <th>654930c922</th>\n",
       "      <td>2033-01-11 19:03:11</td>\n",
       "      <td>2034-12-30 23:38:40</td>\n",
       "      <td>11222</td>\n",
       "      <td>5529.964263</td>\n",
       "      <td>151116295</td>\n",
       "    </tr>\n",
       "  </tbody>\n",
       "</table>\n",
       "</div>"
      ],
      "text/plain": [
       "                    start_time            end_time  transaction_counts  \\\n",
       "merchant                                                                 \n",
       "5608f200cf 2033-03-29 21:21:57 2034-12-31 04:44:54               25512   \n",
       "53b3fbeae2 2033-11-29 20:40:04 2034-12-31 06:13:56               12178   \n",
       "1ddaea9838 2033-01-03 15:16:32 2034-12-31 07:23:54               12042   \n",
       "89e2d29885 2033-01-25 21:56:56 2034-12-31 02:05:34               11969   \n",
       "654930c922 2033-01-11 19:03:11 2034-12-30 23:38:40               11222   \n",
       "\n",
       "            time_btween  total_sales  \n",
       "merchant                              \n",
       "5608f200cf  2171.964133     20911571  \n",
       "53b3fbeae2  2812.583723     60733740  \n",
       "1ddaea9838  5214.221576     41443545  \n",
       "89e2d29885  5083.599432     18054500  \n",
       "654930c922  5529.964263    151116295  "
      ]
     },
     "execution_count": 289,
     "metadata": {},
     "output_type": "execute_result"
    }
   ],
   "source": [
    "agg_mer.head()"
   ]
  },
  {
   "cell_type": "code",
   "execution_count": 298,
   "metadata": {},
   "outputs": [],
   "source": [
    "agg_mer['total_days'] = (agg_mer.end_time-agg_mer.start_time).apply(lambda x:x.days)#pd.Timedelta.total_seconds)"
   ]
  },
  {
   "cell_type": "code",
   "execution_count": 299,
   "metadata": {},
   "outputs": [],
   "source": [
    "agg_mer['trans_perday'] = agg_mer.transaction_counts/agg_mer.total_days"
   ]
  },
  {
   "cell_type": "code",
   "execution_count": 300,
   "metadata": {},
   "outputs": [],
   "source": [
    "agg_mer['sales_perday'] = agg_mer.total_sales/agg_mer.total_days\n"
   ]
  },
  {
   "cell_type": "code",
   "execution_count": 315,
   "metadata": {},
   "outputs": [],
   "source": [
    "def feature_eng(agg_mer):\n",
    "    agg_mer['total_days'] = (agg_mer.end_time-agg_mer.start_time).apply(lambda x:x.days)+1\n",
    "    agg_mer['trans_perday'] = agg_mer.transaction_counts/agg_mer.total_days\n",
    "    agg_mer['sales_perday'] = agg_mer.total_sales/agg_mer.total_days\n",
    "    return agg_mer"
   ]
  },
  {
   "cell_type": "code",
   "execution_count": 357,
   "metadata": {},
   "outputs": [],
   "source": [
    "agg_mer = get_agg_merchants(df_ordered)\n",
    "agg_mer = feature_eng(agg_mer)"
   ]
  },
  {
   "cell_type": "code",
   "execution_count": 358,
   "metadata": {},
   "outputs": [
    {
     "data": {
      "text/html": [
       "<div>\n",
       "<style scoped>\n",
       "    .dataframe tbody tr th:only-of-type {\n",
       "        vertical-align: middle;\n",
       "    }\n",
       "\n",
       "    .dataframe tbody tr th {\n",
       "        vertical-align: top;\n",
       "    }\n",
       "\n",
       "    .dataframe thead th {\n",
       "        text-align: right;\n",
       "    }\n",
       "</style>\n",
       "<table border=\"1\" class=\"dataframe\">\n",
       "  <thead>\n",
       "    <tr style=\"text-align: right;\">\n",
       "      <th></th>\n",
       "      <th>start_time</th>\n",
       "      <th>end_time</th>\n",
       "      <th>transaction_counts</th>\n",
       "      <th>time_btween</th>\n",
       "      <th>total_sales</th>\n",
       "      <th>sales_pertrans</th>\n",
       "      <th>time_of_day</th>\n",
       "      <th>total_days</th>\n",
       "      <th>trans_perday</th>\n",
       "      <th>sales_perday</th>\n",
       "    </tr>\n",
       "    <tr>\n",
       "      <th>merchant</th>\n",
       "      <th></th>\n",
       "      <th></th>\n",
       "      <th></th>\n",
       "      <th></th>\n",
       "      <th></th>\n",
       "      <th></th>\n",
       "      <th></th>\n",
       "      <th></th>\n",
       "      <th></th>\n",
       "      <th></th>\n",
       "    </tr>\n",
       "  </thead>\n",
       "  <tbody>\n",
       "    <tr>\n",
       "      <th>e53c9543bc</th>\n",
       "      <td>2033-04-09 15:12:05</td>\n",
       "      <td>2034-12-30 18:11:54</td>\n",
       "      <td>2342</td>\n",
       "      <td>23256.210594</td>\n",
       "      <td>14590378</td>\n",
       "      <td>6229.879590</td>\n",
       "      <td>17.578992</td>\n",
       "      <td>631</td>\n",
       "      <td>3.711569</td>\n",
       "      <td>23122.627575</td>\n",
       "    </tr>\n",
       "    <tr>\n",
       "      <th>d503cb6f1c</th>\n",
       "      <td>2033-06-17 16:59:34</td>\n",
       "      <td>2034-12-31 06:43:00</td>\n",
       "      <td>2337</td>\n",
       "      <td>20770.464897</td>\n",
       "      <td>58278766</td>\n",
       "      <td>24937.426615</td>\n",
       "      <td>7.947368</td>\n",
       "      <td>562</td>\n",
       "      <td>4.158363</td>\n",
       "      <td>103698.871886</td>\n",
       "    </tr>\n",
       "    <tr>\n",
       "      <th>8ca23d4d9e</th>\n",
       "      <td>2033-11-21 17:02:13</td>\n",
       "      <td>2034-12-31 00:01:35</td>\n",
       "      <td>2333</td>\n",
       "      <td>14978.885935</td>\n",
       "      <td>10748812</td>\n",
       "      <td>4607.291899</td>\n",
       "      <td>14.714102</td>\n",
       "      <td>405</td>\n",
       "      <td>5.760494</td>\n",
       "      <td>26540.276543</td>\n",
       "    </tr>\n",
       "    <tr>\n",
       "      <th>ee57011cd9</th>\n",
       "      <td>2033-02-15 21:50:45</td>\n",
       "      <td>2034-12-31 05:56:00</td>\n",
       "      <td>2332</td>\n",
       "      <td>25328.320463</td>\n",
       "      <td>27499801</td>\n",
       "      <td>11792.367496</td>\n",
       "      <td>12.433105</td>\n",
       "      <td>684</td>\n",
       "      <td>3.409357</td>\n",
       "      <td>40204.387427</td>\n",
       "    </tr>\n",
       "    <tr>\n",
       "      <th>062de5273b</th>\n",
       "      <td>2033-12-01 17:11:26</td>\n",
       "      <td>2034-12-31 04:13:49</td>\n",
       "      <td>2320</td>\n",
       "      <td>14696.568780</td>\n",
       "      <td>19323701</td>\n",
       "      <td>8329.181466</td>\n",
       "      <td>13.057759</td>\n",
       "      <td>395</td>\n",
       "      <td>5.873418</td>\n",
       "      <td>48920.762025</td>\n",
       "    </tr>\n",
       "    <tr>\n",
       "      <th>b0276c5ff2</th>\n",
       "      <td>2033-06-18 21:12:26</td>\n",
       "      <td>2034-12-30 23:58:13</td>\n",
       "      <td>2287</td>\n",
       "      <td>21169.705599</td>\n",
       "      <td>6546314</td>\n",
       "      <td>2862.402274</td>\n",
       "      <td>16.912112</td>\n",
       "      <td>561</td>\n",
       "      <td>4.076649</td>\n",
       "      <td>11669.008913</td>\n",
       "    </tr>\n",
       "    <tr>\n",
       "      <th>81512d8413</th>\n",
       "      <td>2033-01-01 16:16:19</td>\n",
       "      <td>2034-12-31 03:02:16</td>\n",
       "      <td>2260</td>\n",
       "      <td>27860.981408</td>\n",
       "      <td>12791115</td>\n",
       "      <td>5659.785398</td>\n",
       "      <td>15.000885</td>\n",
       "      <td>729</td>\n",
       "      <td>3.100137</td>\n",
       "      <td>17546.111111</td>\n",
       "    </tr>\n",
       "    <tr>\n",
       "      <th>727f440092</th>\n",
       "      <td>2033-02-17 15:11:03</td>\n",
       "      <td>2034-12-31 02:00:46</td>\n",
       "      <td>2255</td>\n",
       "      <td>26121.287933</td>\n",
       "      <td>18341646</td>\n",
       "      <td>8133.767627</td>\n",
       "      <td>15.719734</td>\n",
       "      <td>682</td>\n",
       "      <td>3.306452</td>\n",
       "      <td>26893.909091</td>\n",
       "    </tr>\n",
       "    <tr>\n",
       "      <th>8def055c22</th>\n",
       "      <td>2033-04-16 06:17:21</td>\n",
       "      <td>2034-12-31 07:53:06</td>\n",
       "      <td>2229</td>\n",
       "      <td>24200.783214</td>\n",
       "      <td>28684840</td>\n",
       "      <td>12868.927770</td>\n",
       "      <td>8.252580</td>\n",
       "      <td>625</td>\n",
       "      <td>3.566400</td>\n",
       "      <td>45895.744000</td>\n",
       "    </tr>\n",
       "    <tr>\n",
       "      <th>e9d9eacb17</th>\n",
       "      <td>2033-01-20 04:49:32</td>\n",
       "      <td>2034-12-30 19:11:19</td>\n",
       "      <td>2223</td>\n",
       "      <td>27591.947345</td>\n",
       "      <td>58826153</td>\n",
       "      <td>26462.506973</td>\n",
       "      <td>13.785425</td>\n",
       "      <td>710</td>\n",
       "      <td>3.130986</td>\n",
       "      <td>82853.736620</td>\n",
       "    </tr>\n",
       "  </tbody>\n",
       "</table>\n",
       "</div>"
      ],
      "text/plain": [
       "                    start_time            end_time  transaction_counts  \\\n",
       "merchant                                                                 \n",
       "e53c9543bc 2033-04-09 15:12:05 2034-12-30 18:11:54                2342   \n",
       "d503cb6f1c 2033-06-17 16:59:34 2034-12-31 06:43:00                2337   \n",
       "8ca23d4d9e 2033-11-21 17:02:13 2034-12-31 00:01:35                2333   \n",
       "ee57011cd9 2033-02-15 21:50:45 2034-12-31 05:56:00                2332   \n",
       "062de5273b 2033-12-01 17:11:26 2034-12-31 04:13:49                2320   \n",
       "b0276c5ff2 2033-06-18 21:12:26 2034-12-30 23:58:13                2287   \n",
       "81512d8413 2033-01-01 16:16:19 2034-12-31 03:02:16                2260   \n",
       "727f440092 2033-02-17 15:11:03 2034-12-31 02:00:46                2255   \n",
       "8def055c22 2033-04-16 06:17:21 2034-12-31 07:53:06                2229   \n",
       "e9d9eacb17 2033-01-20 04:49:32 2034-12-30 19:11:19                2223   \n",
       "\n",
       "             time_btween  total_sales  sales_pertrans  time_of_day  \\\n",
       "merchant                                                             \n",
       "e53c9543bc  23256.210594     14590378     6229.879590    17.578992   \n",
       "d503cb6f1c  20770.464897     58278766    24937.426615     7.947368   \n",
       "8ca23d4d9e  14978.885935     10748812     4607.291899    14.714102   \n",
       "ee57011cd9  25328.320463     27499801    11792.367496    12.433105   \n",
       "062de5273b  14696.568780     19323701     8329.181466    13.057759   \n",
       "b0276c5ff2  21169.705599      6546314     2862.402274    16.912112   \n",
       "81512d8413  27860.981408     12791115     5659.785398    15.000885   \n",
       "727f440092  26121.287933     18341646     8133.767627    15.719734   \n",
       "8def055c22  24200.783214     28684840    12868.927770     8.252580   \n",
       "e9d9eacb17  27591.947345     58826153    26462.506973    13.785425   \n",
       "\n",
       "            total_days  trans_perday   sales_perday  \n",
       "merchant                                             \n",
       "e53c9543bc         631      3.711569   23122.627575  \n",
       "d503cb6f1c         562      4.158363  103698.871886  \n",
       "8ca23d4d9e         405      5.760494   26540.276543  \n",
       "ee57011cd9         684      3.409357   40204.387427  \n",
       "062de5273b         395      5.873418   48920.762025  \n",
       "b0276c5ff2         561      4.076649   11669.008913  \n",
       "81512d8413         729      3.100137   17546.111111  \n",
       "727f440092         682      3.306452   26893.909091  \n",
       "8def055c22         625      3.566400   45895.744000  \n",
       "e9d9eacb17         710      3.130986   82853.736620  "
      ]
     },
     "execution_count": 358,
     "metadata": {},
     "output_type": "execute_result"
    }
   ],
   "source": [
    "agg_mer[100:110]"
   ]
  },
  {
   "cell_type": "markdown",
   "metadata": {},
   "source": [
    "### findings with merchant data\n",
    "* average 381.04 per transaction\n",
    "* lots of 1 day 1 transactions\n",
    "* daily volumn avarage at 274\n",
    "* average trades in two years 105\n",
    "* total sales average at 16332\n",
    "* total days about 200 days"
   ]
  },
  {
   "cell_type": "code",
   "execution_count": 317,
   "metadata": {
    "scrolled": true
   },
   "outputs": [
    {
     "data": {
      "text/html": [
       "<div>\n",
       "<style scoped>\n",
       "    .dataframe tbody tr th:only-of-type {\n",
       "        vertical-align: middle;\n",
       "    }\n",
       "\n",
       "    .dataframe tbody tr th {\n",
       "        vertical-align: top;\n",
       "    }\n",
       "\n",
       "    .dataframe thead th {\n",
       "        text-align: right;\n",
       "    }\n",
       "</style>\n",
       "<table border=\"1\" class=\"dataframe\">\n",
       "  <thead>\n",
       "    <tr style=\"text-align: right;\">\n",
       "      <th></th>\n",
       "      <th>transaction_counts</th>\n",
       "      <th>time_btween</th>\n",
       "      <th>total_sales</th>\n",
       "      <th>sales_pertrans</th>\n",
       "      <th>total_days</th>\n",
       "      <th>trans_perday</th>\n",
       "      <th>sales_perday</th>\n",
       "    </tr>\n",
       "  </thead>\n",
       "  <tbody>\n",
       "    <tr>\n",
       "      <th>count</th>\n",
       "      <td>14351.000000</td>\n",
       "      <td>1.268500e+04</td>\n",
       "      <td>1.435100e+04</td>\n",
       "      <td>1.435100e+04</td>\n",
       "      <td>14351.000000</td>\n",
       "      <td>14351.000000</td>\n",
       "      <td>1.435100e+04</td>\n",
       "    </tr>\n",
       "    <tr>\n",
       "      <th>mean</th>\n",
       "      <td>105.478294</td>\n",
       "      <td>1.867858e+06</td>\n",
       "      <td>1.633296e+06</td>\n",
       "      <td>3.810458e+04</td>\n",
       "      <td>200.478085</td>\n",
       "      <td>1.425003</td>\n",
       "      <td>2.738763e+04</td>\n",
       "    </tr>\n",
       "    <tr>\n",
       "      <th>std</th>\n",
       "      <td>527.717966</td>\n",
       "      <td>3.555165e+06</td>\n",
       "      <td>6.431726e+06</td>\n",
       "      <td>1.415186e+05</td>\n",
       "      <td>203.849367</td>\n",
       "      <td>28.710780</td>\n",
       "      <td>3.873150e+05</td>\n",
       "    </tr>\n",
       "    <tr>\n",
       "      <th>min</th>\n",
       "      <td>1.000000</td>\n",
       "      <td>1.580280e+01</td>\n",
       "      <td>2.010000e+02</td>\n",
       "      <td>2.010000e+02</td>\n",
       "      <td>1.000000</td>\n",
       "      <td>0.002759</td>\n",
       "      <td>2.661642e+00</td>\n",
       "    </tr>\n",
       "    <tr>\n",
       "      <th>25%</th>\n",
       "      <td>3.000000</td>\n",
       "      <td>1.720393e+05</td>\n",
       "      <td>3.626300e+04</td>\n",
       "      <td>5.738182e+03</td>\n",
       "      <td>18.000000</td>\n",
       "      <td>0.060241</td>\n",
       "      <td>7.571081e+02</td>\n",
       "    </tr>\n",
       "    <tr>\n",
       "      <th>50%</th>\n",
       "      <td>11.000000</td>\n",
       "      <td>6.637375e+05</td>\n",
       "      <td>1.602620e+05</td>\n",
       "      <td>1.096500e+04</td>\n",
       "      <td>128.000000</td>\n",
       "      <td>0.200000</td>\n",
       "      <td>2.949425e+03</td>\n",
       "    </tr>\n",
       "    <tr>\n",
       "      <th>75%</th>\n",
       "      <td>45.000000</td>\n",
       "      <td>2.010619e+06</td>\n",
       "      <td>8.230995e+05</td>\n",
       "      <td>2.732122e+04</td>\n",
       "      <td>349.000000</td>\n",
       "      <td>1.000000</td>\n",
       "      <td>1.093586e+04</td>\n",
       "    </tr>\n",
       "    <tr>\n",
       "      <th>max</th>\n",
       "      <td>25512.000000</td>\n",
       "      <td>6.261378e+07</td>\n",
       "      <td>2.369072e+08</td>\n",
       "      <td>8.887465e+06</td>\n",
       "      <td>729.000000</td>\n",
       "      <td>3358.000000</td>\n",
       "      <td>4.384030e+07</td>\n",
       "    </tr>\n",
       "  </tbody>\n",
       "</table>\n",
       "</div>"
      ],
      "text/plain": [
       "       transaction_counts   time_btween   total_sales  sales_pertrans  \\\n",
       "count        14351.000000  1.268500e+04  1.435100e+04    1.435100e+04   \n",
       "mean           105.478294  1.867858e+06  1.633296e+06    3.810458e+04   \n",
       "std            527.717966  3.555165e+06  6.431726e+06    1.415186e+05   \n",
       "min              1.000000  1.580280e+01  2.010000e+02    2.010000e+02   \n",
       "25%              3.000000  1.720393e+05  3.626300e+04    5.738182e+03   \n",
       "50%             11.000000  6.637375e+05  1.602620e+05    1.096500e+04   \n",
       "75%             45.000000  2.010619e+06  8.230995e+05    2.732122e+04   \n",
       "max          25512.000000  6.261378e+07  2.369072e+08    8.887465e+06   \n",
       "\n",
       "         total_days  trans_perday  sales_perday  \n",
       "count  14351.000000  14351.000000  1.435100e+04  \n",
       "mean     200.478085      1.425003  2.738763e+04  \n",
       "std      203.849367     28.710780  3.873150e+05  \n",
       "min        1.000000      0.002759  2.661642e+00  \n",
       "25%       18.000000      0.060241  7.571081e+02  \n",
       "50%      128.000000      0.200000  2.949425e+03  \n",
       "75%      349.000000      1.000000  1.093586e+04  \n",
       "max      729.000000   3358.000000  4.384030e+07  "
      ]
     },
     "execution_count": 317,
     "metadata": {},
     "output_type": "execute_result"
    }
   ],
   "source": [
    "agg_mer.describe()"
   ]
  },
  {
   "cell_type": "markdown",
   "metadata": {},
   "source": [
    "### more than 10% merchants have exactly 1 trade per day, seems reasonalby to cluster them together"
   ]
  },
  {
   "cell_type": "code",
   "execution_count": 332,
   "metadata": {},
   "outputs": [
    {
     "data": {
      "text/html": [
       "<div>\n",
       "<style scoped>\n",
       "    .dataframe tbody tr th:only-of-type {\n",
       "        vertical-align: middle;\n",
       "    }\n",
       "\n",
       "    .dataframe tbody tr th {\n",
       "        vertical-align: top;\n",
       "    }\n",
       "\n",
       "    .dataframe thead th {\n",
       "        text-align: right;\n",
       "    }\n",
       "</style>\n",
       "<table border=\"1\" class=\"dataframe\">\n",
       "  <thead>\n",
       "    <tr style=\"text-align: right;\">\n",
       "      <th></th>\n",
       "      <th>index</th>\n",
       "      <th>trans_perday</th>\n",
       "    </tr>\n",
       "  </thead>\n",
       "  <tbody>\n",
       "    <tr>\n",
       "      <th>0</th>\n",
       "      <td>1.000000</td>\n",
       "      <td>1772</td>\n",
       "    </tr>\n",
       "    <tr>\n",
       "      <th>1</th>\n",
       "      <td>2.000000</td>\n",
       "      <td>242</td>\n",
       "    </tr>\n",
       "    <tr>\n",
       "      <th>2</th>\n",
       "      <td>0.250000</td>\n",
       "      <td>103</td>\n",
       "    </tr>\n",
       "    <tr>\n",
       "      <th>3</th>\n",
       "      <td>0.500000</td>\n",
       "      <td>102</td>\n",
       "    </tr>\n",
       "    <tr>\n",
       "      <th>4</th>\n",
       "      <td>0.285714</td>\n",
       "      <td>70</td>\n",
       "    </tr>\n",
       "    <tr>\n",
       "      <th>5</th>\n",
       "      <td>0.142857</td>\n",
       "      <td>66</td>\n",
       "    </tr>\n",
       "    <tr>\n",
       "      <th>6</th>\n",
       "      <td>0.333333</td>\n",
       "      <td>65</td>\n",
       "    </tr>\n",
       "    <tr>\n",
       "      <th>7</th>\n",
       "      <td>3.000000</td>\n",
       "      <td>62</td>\n",
       "    </tr>\n",
       "    <tr>\n",
       "      <th>8</th>\n",
       "      <td>0.666667</td>\n",
       "      <td>54</td>\n",
       "    </tr>\n",
       "    <tr>\n",
       "      <th>9</th>\n",
       "      <td>0.200000</td>\n",
       "      <td>50</td>\n",
       "    </tr>\n",
       "  </tbody>\n",
       "</table>\n",
       "</div>"
      ],
      "text/plain": [
       "      index  trans_perday\n",
       "0  1.000000          1772\n",
       "1  2.000000           242\n",
       "2  0.250000           103\n",
       "3  0.500000           102\n",
       "4  0.285714            70\n",
       "5  0.142857            66\n",
       "6  0.333333            65\n",
       "7  3.000000            62\n",
       "8  0.666667            54\n",
       "9  0.200000            50"
      ]
     },
     "execution_count": 332,
     "metadata": {},
     "output_type": "execute_result"
    }
   ],
   "source": [
    "agg_mer.trans_perday.value_counts().reset_index()[:10]#.to_numpy()"
   ]
  },
  {
   "cell_type": "code",
   "execution_count": 333,
   "metadata": {},
   "outputs": [
    {
     "data": {
      "text/plain": [
       "(14351, 9)"
      ]
     },
     "execution_count": 333,
     "metadata": {},
     "output_type": "execute_result"
    }
   ],
   "source": [
    "agg_mer.shape"
   ]
  },
  {
   "cell_type": "code",
   "execution_count": 334,
   "metadata": {},
   "outputs": [
    {
     "data": {
      "text/html": [
       "<div>\n",
       "<style scoped>\n",
       "    .dataframe tbody tr th:only-of-type {\n",
       "        vertical-align: middle;\n",
       "    }\n",
       "\n",
       "    .dataframe tbody tr th {\n",
       "        vertical-align: top;\n",
       "    }\n",
       "\n",
       "    .dataframe thead th {\n",
       "        text-align: right;\n",
       "    }\n",
       "</style>\n",
       "<table border=\"1\" class=\"dataframe\">\n",
       "  <thead>\n",
       "    <tr style=\"text-align: right;\">\n",
       "      <th></th>\n",
       "      <th>merchant</th>\n",
       "      <th>time</th>\n",
       "      <th>amount_usd_in_cents</th>\n",
       "      <th>next_tran_time</th>\n",
       "      <th>time_diff</th>\n",
       "    </tr>\n",
       "  </thead>\n",
       "  <tbody>\n",
       "    <tr>\n",
       "      <th>1</th>\n",
       "      <td>faa029c6b0</td>\n",
       "      <td>2034-06-17 23:34:14</td>\n",
       "      <td>6349</td>\n",
       "      <td>2034-03-01 14:11:27</td>\n",
       "      <td>-109 days +14:37:13</td>\n",
       "    </tr>\n",
       "    <tr>\n",
       "      <th>2</th>\n",
       "      <td>ed7a7d91aa</td>\n",
       "      <td>2034-12-27 00:40:38</td>\n",
       "      <td>3854</td>\n",
       "      <td>2034-12-03 13:46:11</td>\n",
       "      <td>-24 days +13:05:33</td>\n",
       "    </tr>\n",
       "    <tr>\n",
       "      <th>3</th>\n",
       "      <td>5608f200cf</td>\n",
       "      <td>2034-04-30 01:29:42</td>\n",
       "      <td>789</td>\n",
       "      <td>2034-11-28 07:20:23</td>\n",
       "      <td>212 days 05:50:41</td>\n",
       "    </tr>\n",
       "    <tr>\n",
       "      <th>4</th>\n",
       "      <td>15b1a0d61e</td>\n",
       "      <td>2034-09-16 01:06:23</td>\n",
       "      <td>4452</td>\n",
       "      <td>2034-09-13 20:42:45</td>\n",
       "      <td>-3 days +19:36:22</td>\n",
       "    </tr>\n",
       "    <tr>\n",
       "      <th>5</th>\n",
       "      <td>4770051790</td>\n",
       "      <td>2034-07-22 16:21:42</td>\n",
       "      <td>20203</td>\n",
       "      <td>2034-12-28 21:32:10</td>\n",
       "      <td>159 days 05:10:28</td>\n",
       "    </tr>\n",
       "  </tbody>\n",
       "</table>\n",
       "</div>"
      ],
      "text/plain": [
       "     merchant                time  amount_usd_in_cents      next_tran_time  \\\n",
       "1  faa029c6b0 2034-06-17 23:34:14                 6349 2034-03-01 14:11:27   \n",
       "2  ed7a7d91aa 2034-12-27 00:40:38                 3854 2034-12-03 13:46:11   \n",
       "3  5608f200cf 2034-04-30 01:29:42                  789 2034-11-28 07:20:23   \n",
       "4  15b1a0d61e 2034-09-16 01:06:23                 4452 2034-09-13 20:42:45   \n",
       "5  4770051790 2034-07-22 16:21:42                20203 2034-12-28 21:32:10   \n",
       "\n",
       "            time_diff  \n",
       "1 -109 days +14:37:13  \n",
       "2  -24 days +13:05:33  \n",
       "3   212 days 05:50:41  \n",
       "4   -3 days +19:36:22  \n",
       "5   159 days 05:10:28  "
      ]
     },
     "execution_count": 334,
     "metadata": {},
     "output_type": "execute_result"
    }
   ],
   "source": [
    "df.head()"
   ]
  },
  {
   "cell_type": "code",
   "execution_count": 340,
   "metadata": {},
   "outputs": [
    {
     "data": {
      "text/plain": [
       "23"
      ]
     },
     "execution_count": 340,
     "metadata": {},
     "output_type": "execute_result"
    }
   ],
   "source": [
    "df.time.iloc[0].time().hour"
   ]
  },
  {
   "cell_type": "code",
   "execution_count": 361,
   "metadata": {},
   "outputs": [],
   "source": [
    "def get_time_of_day(time):\n",
    "    #aa = time.apply(lambda x:x.time().hour)\n",
    "    b = [0,4,8,12,16,20,24]\n",
    "    l = ['Late Night', 'Early Morning','Morning','Noon','Eve','Night']\n",
    "    return pd.cut(time, bins=b, labels=l, include_lowest=True)"
   ]
  },
  {
   "cell_type": "code",
   "execution_count": 350,
   "metadata": {},
   "outputs": [
    {
     "data": {
      "text/plain": [
       "1         Night\n",
       "2    Late Night\n",
       "3    Late Night\n",
       "4    Late Night\n",
       "5          Noon\n",
       "Name: time, dtype: category\n",
       "Categories (6, object): ['Late Night' < 'Early Morning' < 'Morning' < 'Noon' < 'Eve' < 'Night']"
      ]
     },
     "execution_count": 350,
     "metadata": {},
     "output_type": "execute_result"
    }
   ],
   "source": [
    "get_time_of_day(df.head().time)"
   ]
  },
  {
   "cell_type": "code",
   "execution_count": 344,
   "metadata": {},
   "outputs": [],
   "source": [
    "aa = df.head().time.apply(lambda x:x.time().hour)"
   ]
  },
  {
   "cell_type": "code",
   "execution_count": 347,
   "metadata": {},
   "outputs": [
    {
     "data": {
      "text/plain": [
       "1         Night\n",
       "2    Late Night\n",
       "3    Late Night\n",
       "4    Late Night\n",
       "5          Noon\n",
       "Name: time, dtype: category\n",
       "Categories (6, object): ['Late Night' < 'Early Morning' < 'Morning' < 'Noon' < 'Eve' < 'Night']"
      ]
     },
     "execution_count": 347,
     "metadata": {},
     "output_type": "execute_result"
    }
   ],
   "source": [
    "    b = [0,4,8,12,16,20,24]\n",
    "    l = ['Late Night', 'Early Morning','Morning','Noon','Eve','Night']\n",
    "    pd.cut(aa, bins=b, labels=l, include_lowest=True)"
   ]
  },
  {
   "cell_type": "code",
   "execution_count": 362,
   "metadata": {},
   "outputs": [],
   "source": [
    "agg_mer['time_of_day'] = get_time_of_day(agg_mer.time_of_day)"
   ]
  },
  {
   "cell_type": "code",
   "execution_count": 363,
   "metadata": {},
   "outputs": [
    {
     "data": {
      "text/html": [
       "<div>\n",
       "<style scoped>\n",
       "    .dataframe tbody tr th:only-of-type {\n",
       "        vertical-align: middle;\n",
       "    }\n",
       "\n",
       "    .dataframe tbody tr th {\n",
       "        vertical-align: top;\n",
       "    }\n",
       "\n",
       "    .dataframe thead th {\n",
       "        text-align: right;\n",
       "    }\n",
       "</style>\n",
       "<table border=\"1\" class=\"dataframe\">\n",
       "  <thead>\n",
       "    <tr style=\"text-align: right;\">\n",
       "      <th></th>\n",
       "      <th>start_time</th>\n",
       "      <th>end_time</th>\n",
       "      <th>transaction_counts</th>\n",
       "      <th>time_btween</th>\n",
       "      <th>total_sales</th>\n",
       "      <th>sales_pertrans</th>\n",
       "      <th>time_of_day</th>\n",
       "      <th>total_days</th>\n",
       "      <th>trans_perday</th>\n",
       "      <th>sales_perday</th>\n",
       "    </tr>\n",
       "    <tr>\n",
       "      <th>merchant</th>\n",
       "      <th></th>\n",
       "      <th></th>\n",
       "      <th></th>\n",
       "      <th></th>\n",
       "      <th></th>\n",
       "      <th></th>\n",
       "      <th></th>\n",
       "      <th></th>\n",
       "      <th></th>\n",
       "      <th></th>\n",
       "    </tr>\n",
       "  </thead>\n",
       "  <tbody>\n",
       "    <tr>\n",
       "      <th>5608f200cf</th>\n",
       "      <td>2033-03-29 21:21:57</td>\n",
       "      <td>2034-12-31 04:44:54</td>\n",
       "      <td>25512</td>\n",
       "      <td>2171.964133</td>\n",
       "      <td>20911571</td>\n",
       "      <td>819.675878</td>\n",
       "      <td>Morning</td>\n",
       "      <td>642</td>\n",
       "      <td>39.738318</td>\n",
       "      <td>32572.540498</td>\n",
       "    </tr>\n",
       "    <tr>\n",
       "      <th>53b3fbeae2</th>\n",
       "      <td>2033-11-29 20:40:04</td>\n",
       "      <td>2034-12-31 06:13:56</td>\n",
       "      <td>12178</td>\n",
       "      <td>2812.583723</td>\n",
       "      <td>60733740</td>\n",
       "      <td>4987.168665</td>\n",
       "      <td>Morning</td>\n",
       "      <td>397</td>\n",
       "      <td>30.675063</td>\n",
       "      <td>152981.712846</td>\n",
       "    </tr>\n",
       "    <tr>\n",
       "      <th>1ddaea9838</th>\n",
       "      <td>2033-01-03 15:16:32</td>\n",
       "      <td>2034-12-31 07:23:54</td>\n",
       "      <td>12042</td>\n",
       "      <td>5214.221576</td>\n",
       "      <td>41443545</td>\n",
       "      <td>3441.583209</td>\n",
       "      <td>Noon</td>\n",
       "      <td>727</td>\n",
       "      <td>16.563961</td>\n",
       "      <td>57006.251719</td>\n",
       "    </tr>\n",
       "    <tr>\n",
       "      <th>89e2d29885</th>\n",
       "      <td>2033-01-25 21:56:56</td>\n",
       "      <td>2034-12-31 02:05:34</td>\n",
       "      <td>11969</td>\n",
       "      <td>5083.599432</td>\n",
       "      <td>18054500</td>\n",
       "      <td>1508.438466</td>\n",
       "      <td>Noon</td>\n",
       "      <td>705</td>\n",
       "      <td>16.977305</td>\n",
       "      <td>25609.219858</td>\n",
       "    </tr>\n",
       "    <tr>\n",
       "      <th>654930c922</th>\n",
       "      <td>2033-01-11 19:03:11</td>\n",
       "      <td>2034-12-30 23:38:40</td>\n",
       "      <td>11222</td>\n",
       "      <td>5529.964263</td>\n",
       "      <td>151116295</td>\n",
       "      <td>13466.075120</td>\n",
       "      <td>Morning</td>\n",
       "      <td>719</td>\n",
       "      <td>15.607789</td>\n",
       "      <td>210175.653686</td>\n",
       "    </tr>\n",
       "  </tbody>\n",
       "</table>\n",
       "</div>"
      ],
      "text/plain": [
       "                    start_time            end_time  transaction_counts  \\\n",
       "merchant                                                                 \n",
       "5608f200cf 2033-03-29 21:21:57 2034-12-31 04:44:54               25512   \n",
       "53b3fbeae2 2033-11-29 20:40:04 2034-12-31 06:13:56               12178   \n",
       "1ddaea9838 2033-01-03 15:16:32 2034-12-31 07:23:54               12042   \n",
       "89e2d29885 2033-01-25 21:56:56 2034-12-31 02:05:34               11969   \n",
       "654930c922 2033-01-11 19:03:11 2034-12-30 23:38:40               11222   \n",
       "\n",
       "            time_btween  total_sales  sales_pertrans time_of_day  total_days  \\\n",
       "merchant                                                                       \n",
       "5608f200cf  2171.964133     20911571      819.675878     Morning         642   \n",
       "53b3fbeae2  2812.583723     60733740     4987.168665     Morning         397   \n",
       "1ddaea9838  5214.221576     41443545     3441.583209        Noon         727   \n",
       "89e2d29885  5083.599432     18054500     1508.438466        Noon         705   \n",
       "654930c922  5529.964263    151116295    13466.075120     Morning         719   \n",
       "\n",
       "            trans_perday   sales_perday  \n",
       "merchant                                 \n",
       "5608f200cf     39.738318   32572.540498  \n",
       "53b3fbeae2     30.675063  152981.712846  \n",
       "1ddaea9838     16.563961   57006.251719  \n",
       "89e2d29885     16.977305   25609.219858  \n",
       "654930c922     15.607789  210175.653686  "
      ]
     },
     "execution_count": 363,
     "metadata": {},
     "output_type": "execute_result"
    }
   ],
   "source": [
    "agg_mer.head()"
   ]
  },
  {
   "cell_type": "markdown",
   "metadata": {},
   "source": [
    "### Q2: Churn prediction\n",
    "#### Define Churn\n",
    "use a days between transactions distribution(normal, poisson or exponential), time interval 1 week, 1 day, 1 month?\n",
    "get the exponential and determine threshold for churn. would be nice to have label.\n",
    "* calcuate individual distribution according to clustering label in q1\n",
    "* two way to get the cut off threshold: 1 assume exponential, then use reverse cdf to get 0.9; 2. use empirical number then cut 0.9 point; if has churn label, this could be decided"
   ]
  },
  {
   "cell_type": "code",
   "execution_count": null,
   "metadata": {},
   "outputs": [],
   "source": []
  }
 ],
 "metadata": {
  "kernelspec": {
   "display_name": "Python 3",
   "language": "python",
   "name": "python3"
  },
  "language_info": {
   "codemirror_mode": {
    "name": "ipython",
    "version": 3
   },
   "file_extension": ".py",
   "mimetype": "text/x-python",
   "name": "python",
   "nbconvert_exporter": "python",
   "pygments_lexer": "ipython3",
   "version": "3.6.9"
  }
 },
 "nbformat": 4,
 "nbformat_minor": 2
}
